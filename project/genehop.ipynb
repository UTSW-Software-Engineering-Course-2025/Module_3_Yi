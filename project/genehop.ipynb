{
 "cells": [
  {
   "cell_type": "markdown",
   "id": "59a8b93f",
   "metadata": {
    "tags": [
     "skip"
    ]
   },
   "source": [
    "# Starter Notebook for GeneTuring Few-shot Evaluation"
   ]
  },
  {
   "cell_type": "markdown",
   "id": "7260d323",
   "metadata": {
    "tags": [
     "skip"
    ]
   },
   "source": [
    "Let's start of by implementing a basic harness to evaluate the Geneturing dataset using Ollama with a Few-Shot prompting strategy to evaluate the performance of these models before implementing the tool-using strategies outlined in the GeneGPT paper.\n",
    "\n",
    "As with most benchmarking code using pretrained models, our notebook will following typical outline of:\n",
    "\n",
    "1. **Imports**\n",
    "2. **Configuration**\n",
    "3. **Data Loading**\n",
    "4. **Model Specification**\n",
    "5. **Metrics**\n",
    "6. **Evaluation Loop**\n",
    "7. **Analysis**"
   ]
  },
  {
   "cell_type": "markdown",
   "id": "19ecb4f5",
   "metadata": {},
   "source": [
    "## 1. Imports"
   ]
  },
  {
   "cell_type": "markdown",
   "id": "6db83b1e",
   "metadata": {
    "tags": [
     "skip"
    ]
   },
   "source": [
    "Good hygiene for Jupyter notebooks includes placing all of the imports at the top of the notebook. This makes it easier to understand what dependencies are needed to run the notebook for new users and mirrors good practices for Python scripts."
   ]
  },
  {
   "cell_type": "code",
   "execution_count": 2,
   "id": "fb9107c5",
   "metadata": {},
   "outputs": [],
   "source": [
    "# 1.1 Place imports here\n",
    "from typing import List, Optional\n",
    "\n",
    "from collections import defaultdict\n",
    "from dataclasses import dataclass"
   ]
  },
  {
   "cell_type": "markdown",
   "id": "26c15925",
   "metadata": {},
   "source": [
    "## 2. Configuration"
   ]
  },
  {
   "cell_type": "markdown",
   "id": "22cf9042",
   "metadata": {
    "tags": [
     "skip"
    ]
   },
   "source": [
    "Also, let's create a section that is specific to the configuration of the run. This will make it easier to change the configuration of the run without hunting for hard-coded values sprinkled throughout the code and makes it easier for others to understand the configuration of the run.\n",
    "\n",
    "We will leave it empty at the moment, but we will come back and fill it in as we identify global configuration options that we need to implement the code."
   ]
  },
  {
   "cell_type": "code",
   "execution_count": 3,
   "id": "71d543d4",
   "metadata": {},
   "outputs": [],
   "source": [
    "# 2.1 Data Configuration\n",
    "@dataclass\n",
    "class DataConfig:\n",
    "    input_path: str = \"data/genehop.json\"     # 数据输入文件\n",
    "    output_dir: str = \"results/\"                 # 结果输出目录\n",
    "    dataset_format: str = \"json\"                 # 数据格式\n",
    "    task_field: str = \"question\"                 # 输入字段名\n",
    "    answer_field: str = \"answer\"                 # 标准答案字段名\n",
    "    split_key: str | None = None                 # 可选：用于分任务或切分数据"
   ]
  },
  {
   "cell_type": "code",
   "execution_count": 4,
   "id": "82e42308",
   "metadata": {},
   "outputs": [],
   "source": [
    "# 2.2 Model Configuration\n",
    "@dataclass\n",
    "class ModelConfig:\n",
    "    model_name: str = \"gpt-4.1\"                     # \"gpt-4\", \"gpt-3.5-turbo\"\n",
    "    max_tokens: int = 512\n",
    "    temperature: float = 0.7\n",
    "    top_p: float = 0.9\n",
    "    top_k: Optional[int] = None                   \n",
    "    use_cuda: bool = False                       \n",
    "    batch_size: int = 1                        \n",
    "    model_backend: str = \"openai\"                 \n",
    "    model_variant: Optional[str] = None          \n",
    "    openai_api_key: Optional[str] = None          \n",
    "    openai_base_url: Optional[str] = \"https://api.openai.com/v1\"  \n"
   ]
  },
  {
   "cell_type": "code",
   "execution_count": 5,
   "id": "1ac0d904",
   "metadata": {},
   "outputs": [],
   "source": [
    "# 2.3 Evaluation and Logging Configuration\n",
    "@dataclass\n",
    "class EvaluationConfig:\n",
    "    evaluate_per_task: bool = True              # 是否按任务类型评估（如问答 vs 生成）\n",
    "    save_failed_cases: bool = True              # 是否保存失败样本\n",
    "    failed_cases_path: str = \"results/failed.json\"  # 保存失败样本的位置\n",
    "    metrics: tuple[str, ...] = (\"accuracy\",)    # 使用哪些指标，如 accuracy, f1\n",
    "\n",
    "@dataclass\n",
    "class LoggingConfig:\n",
    "    enable_mlflow: bool = True                  # 是否启用 MLflow\n",
    "    experiment_name: str = \"GeneTuring-Run\"     # MLflow 实验名\n",
    "    run_name: Optional[str] = None              # 可选的具体 run 名称\n",
    "    tracking_uri: Optional[str] = None          # 若设置为 None 则使用默认本地 URI\n",
    "    log_artifacts: bool = True                  # 是否记录生成文件"
   ]
  },
  {
   "cell_type": "markdown",
   "id": "c1904443",
   "metadata": {},
   "source": [
    "## 3. Data Loading"
   ]
  },
  {
   "cell_type": "markdown",
   "id": "f48d7a1f",
   "metadata": {
    "tags": [
     "skip"
    ]
   },
   "source": [
    "In this section we need to load the data that we will be using for our evaluation. \n",
    "\n",
    "The JSON file at `data/gene_turing.json` contains a dictionary of dictionaries. At the top level, the keys are the names of the tasks. Within each task, there are several key-value pairs where the keys are the questions and the values are the answers.\n",
    "\n",
    "Below is one example for each of the 9 tasks in the dataset:\n",
    "\n",
    "```json\n",
    "{\n",
    "    \"Gene alias\": {\n",
    "        \"What is the official gene symbol of LMP10?\": \"PSMB10\"\n",
    "    },\n",
    "    \"Gene disease association\": {\n",
    "        \"What are genes related to Hemolytic anemia due to phosphofructokinase deficiency?\": \"PFKL\"\n",
    "    },\n",
    "    \"Gene location\": {\n",
    "        \"Which chromosome is FAM66D gene located on human genome?\": \"chr8\"\n",
    "    },\n",
    "    \"Human genome DNA aligment\": {\n",
    "        \"Align the DNA sequence to the human genome:ATTCTGCCTTTAGTAATTTGATGACAGAGACTTCTTGGGAACCACAGCCAGGGAGCCACCCTTTACTCCACCAACAGGTGGCTTATATCCAATCTGAGAAAGAAAGAAAAAAAAAAAAGTATTTCTCT\": \"chr15:91950805-91950932\",\n",
    "    },\n",
    "    \"Multi-species DNA aligment\": {\n",
    "        \"Which organism does the DNA sequence come from:AGGGGCAGCAAACACCGGGACACACCCATTCGTGCACTAATCAGAAACTTTTTTTTCTCAAATAATTCAAACAATCAAAATTGGTTTTTTCGAGCAAGGTGGGAAATTTTTCGAT\": \"worm\",\n",
    "    },\n",
    "    \"Gene name conversion\": {\n",
    "        \"Convert ENSG00000215251 to official gene symbol.\": \"FASTKD5\",\n",
    "    },\n",
    "    \"Protein-coding genes\": {\n",
    "        \"Is ATP5F1EP2 a protein-coding gene?\": \"NA\",\n",
    "    },\n",
    "    \"Gene SNP association\": {\n",
    "        \"Which gene is SNP rs1217074595 associated with?\": \"LINC01270\",\n",
    "    },\n",
    "    \"SNP location\": {\n",
    "        \"Which chromosome does SNP rs1430464868 locate on human genome?\": \"chr13\",\n",
    "    }\n",
    "}\n",
    "```"
   ]
  },
  {
   "cell_type": "markdown",
   "id": "b61e217f",
   "metadata": {
    "tags": [
     "skip"
    ]
   },
   "source": [
    "\n",
    "We need to reformat this into a pandas dataframe with the following columns:\n",
    "- `id`: A serial ID number we will assign to each example (int)\n",
    "- `task`: The name of the task (str)\n",
    "- `question`: The question for the example (str)\n",
    "- `answer`: The answer for the example (str)\n",
    "\n",
    "The final dataframe we will create should look like this:\n",
    "\n",
    "| id | task | question | answer |\n",
    "|----|------|----------|--------|\n",
    "| 0 | Task1 | Question1 | Answer1 |\n",
    "| 1 | Task1 | Question2 | Answer2 |\n",
    "| 2 | Task2 | Question1 | Answer1 |\n",
    "| 3 | Task2 | Question2 | Answer2 |"
   ]
  },
  {
   "cell_type": "code",
   "execution_count": 6,
   "id": "2c2b9c4a",
   "metadata": {},
   "outputs": [
    {
     "name": "stdout",
     "output_type": "stream",
     "text": [
      "Loaded 150 examples across 3 tasks.\n",
      "Tasks: ['Disease gene location', 'SNP gene function', 'sequence gene alias']\n"
     ]
    }
   ],
   "source": [
    "# 3.1 Load the JSON file\n",
    "\n",
    "# Load the data here\n",
    "\n",
    "# Build the TASKS variable here\n",
    "import json\n",
    "import pandas as pd\n",
    "from typing import Dict, Any, List\n",
    "import os\n",
    "os.chdir(\"/project/bioinformatics/WZhang_lab/s440820/Module_3_Yi/project\")\n",
    "\n",
    "def load_and_flatten_gene_turing_data(config: DataConfig) -> pd.DataFrame:\n",
    "    \"\"\"\n",
    "    Loads the nested GeneTuring QA dataset and flattens it into a dataframe.\n",
    "\n",
    "    Args:\n",
    "        config (DataConfig): Configuration containing the input file path.\n",
    "\n",
    "    Returns:\n",
    "        pd.DataFrame: A dataframe with columns ['task', 'question', 'answer']\n",
    "    \"\"\"\n",
    "    # Step 1: Load raw nested JSON\n",
    "    with open(config.input_path, \"r\") as f:\n",
    "        raw_data: Dict[str, Dict[str, str]] = json.load(f)\n",
    "\n",
    "    # Step 2: Flatten into list of dicts\n",
    "    rows: List[Dict[str, Any]] = []\n",
    "    for task_name, qa_pairs in raw_data.items():\n",
    "        for question, answer in qa_pairs.items():\n",
    "            rows.append({\n",
    "                \"task\": task_name,\n",
    "                \"question\": question,\n",
    "                \"answer\": answer\n",
    "            })\n",
    "\n",
    "    # Step 3: Convert to DataFrame\n",
    "    df = pd.DataFrame(rows)[[\"task\", \"question\", \"answer\"]]\n",
    "\n",
    "    return df\n",
    "data_config = DataConfig(input_path=\"data/genehop.json\")\n",
    "df = load_and_flatten_gene_turing_data(data_config)\n",
    "TASKS = set(df[\"task\"])\n",
    "\n",
    "print(f\"Loaded {len(df)} examples across {len(TASKS)} tasks.\")\n",
    "print(\"Tasks:\", sorted(TASKS))"
   ]
  },
  {
   "cell_type": "code",
   "execution_count": 7,
   "id": "fe9a5062",
   "metadata": {},
   "outputs": [],
   "source": [
    "# 3.2 Iterate through the JSON data recursively to collect each of the rows into a list\n",
    "#     Each row should have a dictionary with keys of the columsn in the table above"
   ]
  },
  {
   "cell_type": "code",
   "execution_count": 8,
   "id": "7bdff6ef",
   "metadata": {},
   "outputs": [],
   "source": [
    "# 3.3 Create the pandas dataframe from the collection of rows"
   ]
  },
  {
   "cell_type": "markdown",
   "id": "f5f330e0",
   "metadata": {},
   "source": [
    "## 4. Model Specification"
   ]
  },
  {
   "cell_type": "markdown",
   "id": "fc0dff55",
   "metadata": {
    "tags": [
     "skip"
    ]
   },
   "source": [
    "With our few-shot in-context learning model, we need to specify four components:\n",
    "\n",
    "1. The large language model to use\n",
    "2. The instructions for the model as a system prompt\n",
    "3. The few-shot examples to provide to the model to demonstrate the input-output format\n",
    "4. The completion request function that puts it all together retrieving a response for each unseen input"
   ]
  },
  {
   "cell_type": "markdown",
   "id": "bd5a9f18",
   "metadata": {},
   "source": [
    "### 4.1 Setting up the large language model"
   ]
  },
  {
   "cell_type": "markdown",
   "id": "089f0a94",
   "metadata": {
    "tags": [
     "skip"
    ]
   },
   "source": [
    "We will use the Ollama client to interface with the large language model on the Ollama server we started. With large language models, it is common to use a client library to interface with the model hosted by a server. This allows us to iterate quickly on the prompting and post-processing logic without having to incur the overhead of loading the model into memory each time.  Additionally, model code is oftentimes optimized for inference."
   ]
  },
  {
   "cell_type": "code",
   "execution_count": 9,
   "id": "e045007a",
   "metadata": {},
   "outputs": [],
   "source": [
    "# 4.1 Setting up the large language model Ollama model client\n",
    "import requests\n",
    "from typing import Optional\n",
    "from openai import OpenAI\n",
    "from openai import AzureOpenAI\n",
    "\n",
    "def query_model(prompt: str, config: ModelConfig) -> Optional[str]:\n",
    "    \"\"\"\n",
    "    Query a large language model using the specified backend (ollama or openai).\n",
    "    \"\"\"\n",
    "    if config.model_backend == \"ollama\":\n",
    "        # Using Ollama's local HTTP API\n",
    "        url = \"http://localhost:11434/api/generate\"\n",
    "        payload = {\n",
    "            \"model\": config.model_name,\n",
    "            \"prompt\": prompt,\n",
    "            \"stream\": False,\n",
    "            \"options\": {\n",
    "                \"temperature\": config.temperature,\n",
    "                \"top_p\": config.top_p,\n",
    "                \"top_k\": config.top_k,\n",
    "                \"num_predict\": config.max_tokens\n",
    "            }\n",
    "        }\n",
    "        try:\n",
    "            response = requests.post(url, json=payload)\n",
    "            response.raise_for_status()\n",
    "            return response.json().get(\"response\", \"\")\n",
    "        except requests.RequestException as e:\n",
    "            print(f\"[Ollama Error] {e}\")\n",
    "            return None\n",
    "\n",
    "    elif config.model_backend == \"openai\":\n",
    "        # Using OpenAI-compatible API (e.g., local LLM with OpenAI wrapper)\n",
    "        client = OpenAI(\n",
    "        api_key=config.openai_api_key\n",
    "        )\n",
    "        try:\n",
    "            response = client.chat.completions.create(\n",
    "                model=config.model_name,\n",
    "                messages=[{\"role\": \"user\", \"content\": prompt}],\n",
    "                temperature=config.temperature,\n",
    "                top_p=config.top_p,\n",
    "                max_tokens=config.max_tokens\n",
    "            )\n",
    "            return response.choices[0].message.content\n",
    "        except Exception as e:\n",
    "            print(f\"[OpenAI API Error] {e}\")\n",
    "            return None\n",
    "    elif config.model_backend == \"azure\":\n",
    "        client = AzureOpenAI(\n",
    "            api_key=config.openai_api_key,\n",
    "            azure_endpoint=config.openai_base_url,\n",
    "            api_version=\"2024-03-01-preview\"\n",
    "        )\n",
    "        try:\n",
    "            response = client.chat.completions.create(\n",
    "                model=config.model_name,\n",
    "                messages=[{\"role\": \"user\", \"content\": prompt}],\n",
    "                temperature=config.temperature,\n",
    "                top_p=config.top_p,\n",
    "                max_tokens=config.max_tokens\n",
    "            )\n",
    "            return response.choices[0].message.content\n",
    "        except Exception as e:\n",
    "            print(f\"[Azure API Error] {e}\")\n",
    "            return None\n",
    "\n",
    "    else:\n",
    "        raise ValueError(f\"Unsupported backend: {config.model_backend}\")"
   ]
  },
  {
   "cell_type": "code",
   "execution_count": 10,
   "id": "607889e8",
   "metadata": {},
   "outputs": [
    {
     "name": "stdout",
     "output_type": "stream",
     "text": [
      "My name is ChatGPT, and I am an AI language model developed by OpenAI. My underlying architecture is based on the GPT-4 model, which was created by a team of researchers and engineers at OpenAI, a leading artificial intelligence research organization. If you have any more questions, feel free to ask!\n"
     ]
    }
   ],
   "source": [
    "model_config = ModelConfig(\n",
    "    model_name=\"gpt-4.1\",\n",
    "    model_backend=\"azure\",\n",
    "    openai_api_key=\"FJ5GrEV5LG3Y0UIeac29BIhmVu8GPcmWyeTTFH0cBifgT7T68XHPJQQJ99BEACHYHv6XJ3w3AAAAACOGdwHb\",\n",
    "    openai_base_url=\"https://michaelholcomb-5866-resource.cognitiveservices.azure.com/\"\n",
    ")\n",
    "\n",
    "output = query_model(\"What your name? who develop this model?\", config=model_config)\n",
    "print(output)"
   ]
  },
  {
   "cell_type": "markdown",
   "id": "8caf45c9",
   "metadata": {},
   "source": [
    "### 4.2 Setting up the system prompt"
   ]
  },
  {
   "cell_type": "markdown",
   "id": "8e46af38",
   "metadata": {
    "tags": [
     "skip"
    ]
   },
   "source": [
    "Modern large language models are post-trained to perform a variety of tasks and follow instructions. To leverage this capability, we need to provide a system prompt that clearly outlines the task, any constraints, and the format of the output."
   ]
  },
  {
   "cell_type": "markdown",
   "id": "c29bf3d5",
   "metadata": {
    "tags": [
     "skip"
    ]
   },
   "source": [
    "Designing the system prompt is a critical aspect of using LLMs. Below are several resources for designing a system prompt:\n",
    "* [OpenAI Prompt Engineering](https://platform.openai.com/docs/guides/text?api-mode=responses#prompt-engineering)\n",
    "* [Kaggle/Google Prompt Engineering](https://www.kaggle.com/whitepaper-prompt-engineering?_bhlid=a2bfce2cac67662098bd85a241e7cb000576e5d4)\n",
    "* [Anthropic Prompt Engineering](https://docs.anthropic.com/en/docs/build-with-claude/prompt-engineering/overview)\n",
    "* [OpenAI GPT 4.1 Prompting Cookbook](https://cookbook.openai.com/examples/gpt4-1_prompting_guide)\n"
   ]
  },
  {
   "cell_type": "markdown",
   "id": "6887a248",
   "metadata": {
    "tags": [
     "skip"
    ]
   },
   "source": [
    "**From the OpenAI Prompt Engineering guide:**\n",
    "\n",
    "> **Identity**: Describe the purpose, communication style, and high-level goals of the assistant. \n",
    "> \n",
    "> **Instructions**: Provide guidance to the model on how to generate the response you want. What rules should it follow? What should the model do, and what should the model never do? This section could contain many subsections as relevant for your use case, like how the model should call custom functions.  \n",
    ">\n",
    "> **Examples**: Provide examples of possible inputs, along with the desired output from the model.  \n",
    "> \n",
    "> **Context**: Give the model any additional information it might need to generate a response, like private/proprietary data outside its training data, or any other data you know will be particularly relevant. This content is usually best positioned near the end of your prompt, as you may include different context for different generation requests.  "
   ]
  },
  {
   "cell_type": "markdown",
   "id": "fcebc861",
   "metadata": {
    "tags": [
     "skip"
    ]
   },
   "source": [
    "This is what the system prompt looked like in the originalGeneGPT paper, but it is not the best. Identify what it includes and what is missing. Implement your own system prompt incorporating best practices from some of the guides posted above. \n",
    "\n",
    "> \t'Hello. Your task is to use NCBI Web APIs to answer genomic questions.'"
   ]
  },
  {
   "cell_type": "code",
   "execution_count": 11,
   "id": "1d73bcd5",
   "metadata": {},
   "outputs": [],
   "source": [
    "# 4.2 Draft your own system prompt for our generic genomics question answering system. \n",
    "#     Replace the system message `content` below with your own.\n",
    "system_content = \"\"\"\n",
    "You are **GeneHop**, a bioinformatics assistant backed by a static in-memory knowledge-base that maps\n",
    "  (1) DNA subsequences → host genes and their aliases,\n",
    "  (2) hereditary diseases → cytogenetic bands of associated genes,\n",
    "  (3) dbSNP rsIDs → concise functional summaries of their harbouring genes.\n",
    "\n",
    "If a query is **not** found in the knowledge-base, you may construct a live lookup URL and return it so the user can fetch the record themselves:\n",
    "'You can call Eutils by: \"[https://eutils.ncbi.nlm.nih.gov/entrez/eutils/{esearch|efetch|esummary}.fcgi?db={gene|snp|omim}&retmax={}&{term|id}={term|id}]\".\\n' \\\n",
    "    'esearch: input is a search term and output is database id(s).\\n' \\\n",
    "    'efectch/esummary: input is database id(s) and output is full records or summaries that contain name, chromosome location, and other information.\\n' \\\n",
    "    'Normally, you need to first call esearch to get the database id(s) of the search term, and then call efectch/esummary to get the information with the database id(s).\\n' \\\n",
    "    'Database: gene is for genes, snp is for SNPs, and omim is for genetic diseases.\\n\\n' \\\n",
    "    'For DNA sequences, you can use BLAST by: \"[https://blast.ncbi.nlm.nih.gov/blast/Blast.cgi?CMD={Put|Get}&PROGRAM=blastn&MEGABLAST=on&DATABASE=nt&FORMAT_TYPE={XML|Text}&QUERY={sequence}&HITLIST_SIZE={max_hit_size}]\".\\n' \\\n",
    "    'BLAST maps a specific DNA {sequence} to its chromosome location among different specices.\\n' \\\n",
    "• **NCBI E-utilities**  \n",
    "  – `https://eutils.ncbi.nlm.nih.gov/entrez/eutils/esearch.fcgi?db={gene|snp|omim}&retmax=1&term={query}` → returns UID(s)  \n",
    "  – `https://eutils.ncbi.nlm.nih.gov/entrez/eutils/esummary.fcgi?db={gene|snp|omim}&id={uid}` → JSON summary with gene symbol, chromosome band, etc.\n",
    "\n",
    "• **BLAST (nucleotide)** – for DNA sequences that miss in the KB  \n",
    "  – Submit: `https://blast.ncbi.nlm.nih.gov/blast/Blast.cgi?CMD=Put&PROGRAM=blastn&MEGABLAST=on&DATABASE=nt&QUERY={SEQUENCE}&HITLIST_SIZE=5`  \n",
    "  – Poll  : `https://blast.ncbi.nlm.nih.gov/blast/Blast.cgi?CMD=Get&RID={RID}&FORMAT_TYPE=Text`\n",
    "\n",
    "after use blast you need to wait for a while to get the result.\n",
    "After you get the result, you can use the result to answer the question. Don't use the URL to answer the question directly, you need to summarize the result.\n",
    "\n",
    "───────────────────\n",
    "Supported question types\n",
    "1. sequence gene alias → all aliases of the gene that contains that sequence.\n",
    "2. Disease gene location → all chromosomal locations (e.g. “17q21.31”) of causal / associated genes.\n",
    "3. Disease gene location → a 1-3 sentence functional description of the host gene.\n",
    "\n",
    "Formatting rules\n",
    "• English only. Do **NOT** reveal reasoning.  \n",
    "\n",
    "\n",
    "\"\"\"\n",
    "\n",
    "system_message = [\n",
    "    {\n",
    "        \"role\": \"system\",\n",
    "        \"content\": system_content\n",
    "    }\n",
    "]\n",
    "\n",
    "instructions = \"\"\"\n",
    "Do NOT display these checks:\n",
    "1. Detect question type.\n",
    "2. Normalise keys (uppercase DNA, trim rsID).\n",
    "3. Attempt KB lookup once.\n",
    "4A. If hit → output list / paragraph, then `:contentReference[oaicite:2]{index=2}`.\n",
    "4B. If miss → build one or more E-utilities / BLAST URLs as per spec and output them, each on its own line.\n",
    "5. Never add markdown, extra whitespace, or explanations.\n",
    "6. Classify the user query into one of the three supported types; otherwise reply Not the supported question type.\n",
    "8. Look up the static KB once.\n",
    "10. Never output URLs, markdown, or explanations.\n",
    "\"\"\"\n"
   ]
  },
  {
   "cell_type": "markdown",
   "id": "bcb0bf3f",
   "metadata": {},
   "source": [
    "### 4.3 Setting up the few-shot examples"
   ]
  },
  {
   "cell_type": "markdown",
   "id": "dae8d700",
   "metadata": {
    "tags": [
     "skip"
    ]
   },
   "source": [
    "For tasks with idiosyncratic output formats or constraints, it is important to provide clear instructions as well as examples to guide the model in generating the desired output. Mechanically, we provide these pairs of inputs and outputs as a sequence of user and assistant messages after the system prompt.\n",
    "\n",
    "```python\n",
    "messages += [\n",
    "    {\n",
    "        \"role\": \"user\",\n",
    "        \"content\":  <fill in input example 1>\n",
    "    },\n",
    "    {\n",
    "        \"role\": \"assistant\",\n",
    "        \"content\": <fill in output example 1>\n",
    "    },\n",
    "    {\n",
    "        \"role\": \"user\",\n",
    "        \"content\": <fill in input example 2>\n",
    "    },\n",
    "    {\n",
    "        \"role\": \"assistant\",\n",
    "        \"content\": <fill in output example 2>\n",
    "    }\n",
    "]\n",
    "```"
   ]
  },
  {
   "cell_type": "markdown",
   "id": "13fc96d8",
   "metadata": {
    "tags": [
     "skip"
    ]
   },
   "source": [
    "In the GeneGPT code, the authors included several tasks, one of each of a subset of the tasks in the dataset. We will use the same examples here.\n",
    "\n",
    "Please inspect the GeneGPT repository to find the few-shot examples in the prompt. \n",
    "\n",
    "Specifically the `get_prompt_header` function in `main.py` located here: [main.py](https://github.com/ncbi/GeneGPT/blob/main/main.py)"
   ]
  },
  {
   "cell_type": "code",
   "execution_count": 12,
   "id": "fcb78ee2",
   "metadata": {},
   "outputs": [],
   "source": [
    "# 4.3 Appending the few-shot examples to the `messages` list\n",
    "import time\n",
    "import urllib\n",
    "import re\n",
    "def call(url):\n",
    "    time.sleep(1)\n",
    "    url = url.replace(' ', '+')\n",
    "    req = urllib.request.Request(url)\n",
    "    with urllib.request.urlopen(req) as resp:\n",
    "        call = resp.read()\n",
    "    return call\n",
    "\n",
    "def format_call(url):\n",
    "    return f'[{url}]->[{call(url)}]\\n'\n",
    "\n",
    "a6_url = 'https://blast.ncbi.nlm.nih.gov/blast/Blast.cgi?CMD=Put&PROGRAM=blastn&MEGABLAST=on&DATABASE=nt&FORMAT_TYPE=XML&QUERY=ATTCTGCCTTTAGTAATTTGATGACAGAGACTTCTTGGGAACCACAGCCAGGGAGCCACCCTTTACTCCACCAACAGGTGGCTTATATCCAATCTGAGAAAGAAAGAAAAAAAAAAAAGTATTTCTCT&HITLIST_SIZE=5'\n",
    "a6 = call(a6_url)\n",
    "a6 = re.search('RID = (.*)\\n', a6.decode('utf-8')).group(1)\n",
    "\n",
    "example_messages = [\n",
    "    {\n",
    "        \"role\": \"system\",\n",
    "        \"content\": 'Here are a few examples. Make sure to give results in this format only:\\n'\n",
    "                    + 'Question: Which gene is SNP rs1217074595 associated with?\\n' \n",
    "                    + format_call('https://eutils.ncbi.nlm.nih.gov/entrez/eutils/esearch.fcgi?db=gene&retmax=5&retmode=json&sort=relevance&term=LMP10')\n",
    "                    + format_call('https://eutils.ncbi.nlm.nih.gov/entrez/eutils/efetch.fcgi?db=gene&retmax=5&retmode=json&id=19171,5699,8138')\n",
    "                    + 'Answer: PSMB10\\n\\n'\n",
    "    },\n",
    "    {\n",
    "        \"role\": \"system\",\n",
    "        \"content\": 'Question: Which gene is SNP rs1217074595 associated with?\\n'\n",
    "                    + format_call('https://eutils.ncbi.nlm.nih.gov/entrez/eutils/esummary.fcgi?db=snp&retmax=10&retmode=json&id=1217074595')\n",
    "                    + 'Answer: LINC01270\\n\\n'\n",
    "    },\n",
    "    {\n",
    "        \"role\": \"system\",\n",
    "        \"content\": 'Question: What are genes related to Meesmann corneal dystrophy?\\n'\n",
    "                    + format_call('https://eutils.ncbi.nlm.nih.gov/entrez/eutils/esearch.fcgi?db=omim&retmax=20&retmode=json&sort=relevance&term=Meesmann+corneal+dystrophy')\n",
    "                    + format_call('https://eutils.ncbi.nlm.nih.gov/entrez/eutils/esummary.fcgi?db=omim&retmax=20&retmode=json&id=618767,601687,300778,148043,122100')\n",
    "                    + 'Answer: KRT12, KRT3\\n\\n'\n",
    "    },\n",
    "    {\n",
    "        \"role\": \"user\",\n",
    "        \"content\": 'Question: Align the DNA sequence to the human genome:ATTCTGCCTTTAGTAATTTGATGACAGAGACTTCTTGGGAACCACAGCCAGGGAGCCACCCTTTACTCCACCAACAGGTGGCTTATATCCAATCTGAGAAAGAAAGAAAAAAAAAAAAGTATTTCTCT\\n'\n",
    "                    + f'[{a6_url}]->[{a6}]\\n'\n",
    "                    + format_call(f'https://blast.ncbi.nlm.nih.gov/blast/Blast.cgi?CMD=Get&FORMAT_TYPE=Text&RID={a6}')\n",
    "                    + 'Answer: chr15:91950805-91950932\\n\\n'\n",
    "    },\n",
    "]\n",
    "\n",
    "example_messages = [\n",
    "  {\n",
    "    \"role\": \"user\",\n",
    "    \"content\": \"What are the aliases of the gene that contains this sequence: ATTGTGAGAGTAACCAACGTGGGGTTACGGGGGAGAATCTGGAGAGAAGAGAAGAGGTTAACAACCCTCCCACTTCCTGGCCACCCCCCTCCACCTTTTCTGGTAAGGAGCCC. Let's decompose the question to sub-questions and solve them step by step.\"\n",
    "  },\n",
    "  {\n",
    "    \"role\": \"assistant\",\n",
    "    \"content\": \"FCGR3A, CD16, FCG3, CD16A, FCGR3, IGFR3, IMD20, FCR-10, FCRIII, CD16-II, FCGRIII, FCRIIIA, FcGRIIIA :contentReference[oaicite:0]{index=0}\"\n",
    "  },\n",
    "  {\n",
    "    \"role\": \"user\",\n",
    "    \"content\": \"List chromosome locations of the genes related to Proteasome-associated autoinflammatory syndrome. Let's decompose the question to sub-questions and solve them step by step.\"\n",
    "  },\n",
    "  {\n",
    "    \"role\": \"assistant\",\n",
    "    \"content\": \"6p21.32, 18p11.21, 13q12.3, 16q22.1 :contentReference[oaicite:1]{index=1}\"\n",
    "  },\n",
    "  {\n",
    "    \"role\": \"user\",\n",
    "    \"content\": \"What is the function of the gene associated with SNP rs1385096481? Let's decompose the question to sub-questions and solve them step by step.\"\n",
    "  },\n",
    "  {\n",
    "    \"role\": \"assistant\",\n",
    "    \"content\": \"This gene encodes a protein that belongs to the leucine-rich repeat and fibronectin type III domain-containing family of proteins. A similar protein in mouse, a glycosylated transmembrane protein, is thought to function in presynaptic differentiation. :contentReference[oaicite:2]{index=2}\"\n",
    "  }\n",
    "]\n",
    "\n"
   ]
  },
  {
   "cell_type": "markdown",
   "id": "35d89761",
   "metadata": {},
   "source": [
    "### 4.4 Implementing the model request function"
   ]
  },
  {
   "cell_type": "markdown",
   "id": "4590511a",
   "metadata": {
    "tags": [
     "skip"
    ]
   },
   "source": [
    "Now we need to put it all together. We need a function that accepts as arguments:\n",
    "1. The client\n",
    "2. The system message\n",
    "3. The few-shot examples\n",
    "4. The new user query -- this case the user's question from the GeneTuring dataset.\n",
    "\n",
    "The function should return the response from the model and extract the answer (everything after 'Answer :' based on the format of the examples above)\n",
    "\n"
   ]
  },
  {
   "cell_type": "code",
   "execution_count": 13,
   "id": "8216c04c",
   "metadata": {},
   "outputs": [],
   "source": [
    "# model_client.py\n",
    "from typing import List, Dict, Optional, Type, Any\n",
    "from openai import AzureOpenAI\n",
    "from pydantic import BaseModel\n",
    "\n",
    "def query_gene_gpt_model(\n",
    "    client: AzureOpenAI,\n",
    "    system_prompt: str,\n",
    "    example_messages: List[Dict[str, str]],\n",
    "    instructions: str,\n",
    "    user_query: str,\n",
    "    config: ModelConfig,\n",
    "    *,\n",
    "    pydantic_model: Optional[Type[BaseModel]] = None,   # ① Pydantic 模式\n",
    "    json_schema: Optional[Dict[str, Any]] = None        # ② 原始 schema 模式\n",
    ") -> str | dict:\n",
    "    \"\"\"\n",
    "    调用 Azure OpenAI (GPT-4o / GPT-4)：\n",
    "    - 如果传入 pydantic_model / json_schema，则返回结构化 JSON/Pydantic 对象\n",
    "    - 否则返回纯文本，并截取 'Answer:' 之后内容\n",
    "    \"\"\"\n",
    "    # 1. 组装消息\n",
    "    messages =  [\n",
    "    {\"role\": \"system\", \"content\": system_prompt},\n",
    "    {\"role\": \"assistant\", \"content\": instructions},\n",
    "    *example_messages,\n",
    "    {\"role\": \"user\", \"content\": user_query}\n",
    "]\n",
    "\n",
    "    # 2. 公共参数\n",
    "    base_kwargs = dict(\n",
    "        model=config.model_name,   # Azure 部署名\n",
    "        messages=messages,\n",
    "        temperature=config.temperature,\n",
    "        top_p=config.top_p,\n",
    "        max_tokens=config.max_tokens,\n",
    "    )\n",
    "\n",
    "    # ------------ 结构化输出路径 ------------\n",
    "    if pydantic_model or json_schema:\n",
    "        # a. 使用 pydantic（推荐，类型安全）\n",
    "        if pydantic_model is not None:\n",
    "            completion = client.beta.chat.completions.parse(\n",
    "                **base_kwargs, response_format=pydantic_model\n",
    "            )\n",
    "            return completion.choices[0].message.parsed  # 已是 pydantic 对象\n",
    "\n",
    "        # b. 仅要求 JSON（Azure 端不校验 schema，只保证合法 JSON）\n",
    "        completion = client.chat.completions.create(\n",
    "            **base_kwargs, response_format={\"type\": \"json_object\"}\n",
    "        )\n",
    "        return json.loads(completion.choices[0].message.content)\n",
    "\n",
    "    # ------------ 普通文本路径 ------------\n",
    "    completion = client.chat.completions.create(**base_kwargs)\n",
    "    content = completion.choices[0].message.content.strip()\n",
    "    return content.split(\"Answer:\")[-1].strip() if \"Answer:\" in content else content\n",
    "\n",
    "\n"
   ]
  },
  {
   "cell_type": "code",
   "execution_count": 14,
   "id": "a5dea011",
   "metadata": {},
   "outputs": [
    {
     "name": "stdout",
     "output_type": "stream",
     "text": [
      "text: FREM2, C9orf143, FRAS1L, PPBL, BNAR :contentReference[oaicite:0]{index=0}\n",
      "structure: answer='NFKB1, EBPB, KBF1, NF-kappaB, NFkappaB, p105, p50, DKFZp686A03187, MGC10483, MGC138850' confidence=0.95\n"
     ]
    },
    {
     "data": {
      "text/plain": [
       "'\\n\"OR10A2\",\\n\"OST363\",\\n\"OR10A2P\",\\n\"OR11-82\",\\n\"OR11-86\"\\n'"
      ]
     },
     "execution_count": 14,
     "metadata": {},
     "output_type": "execute_result"
    }
   ],
   "source": [
    "\n",
    "\n",
    "# answer = query_gene_gpt_model(\n",
    "#     client=AzureOpenAI,\n",
    "#     system_prompt=\"You are a helpful assistant answering genomic questions using NCBI APIs.\",\n",
    "#     example_messages=example_messages,  \n",
    "#     user_query=\"Question: What is the official gene symbol of SNAT6?\",\n",
    "#     config=model_config\n",
    "# )\n",
    "model_config = ModelConfig(\n",
    "    model_name=\"gpt-4.1\",\n",
    "    model_backend=\"azure\",\n",
    "    openai_api_key=\"FJ5GrEV5LG3Y0UIeac29BIhmVu8GPcmWyeTTFH0cBifgT7T68XHPJQQJ99BEACHYHv6XJ3w3AAAAACOGdwHb\",\n",
    "    openai_base_url=\"https://michaelholcomb-5866-resource.cognitiveservices.azure.com/\"\n",
    ")\n",
    "\n",
    "client = AzureOpenAI(\n",
    "    api_key=model_config.openai_api_key,\n",
    "    azure_endpoint=model_config.openai_base_url,\n",
    "    api_version=\"2024-10-21\"\n",
    ")\n",
    "\n",
    "\n",
    "\n",
    "answer_text = query_gene_gpt_model(\n",
    "    client=client,\n",
    "    system_prompt=system_content,\n",
    "    example_messages=example_messages,\n",
    "    instructions=instructions,\n",
    "    user_query=\"What are the aliases of the gene that contains this sequnece:ACTAGCCCCAAGAACAAAAGAGGCACAGGTGGGAACAACTCTCCCAAAACCAGGACTGGGAGCATGGCCAAACTTCATAGTGAGCTTACTTGCCTCTGACACACAAGGCAGCA. Let's decompose the question to sub-questions and solve them step by step.\",\n",
    "    config=model_config,\n",
    ")\n",
    "print(\"text:\", answer_text)   \n",
    "\n",
    "# 2. Pydantic 结构化模式\n",
    "class GeneHopResult(BaseModel):\n",
    "    answer: str\n",
    "    confidence: float\n",
    "    \n",
    "\n",
    "answer_json = query_gene_gpt_model(\n",
    "    client=client,\n",
    "    system_prompt=system_content+\"\\nReturn result in JSON.\",\n",
    "    example_messages=example_messages,\n",
    "    instructions=instructions,\n",
    "    user_query=\"What are the aliases of the gene that contains this sequnece:ACTAGCCCCAAGAACAAAAGAGGCACAGGTGGGAACAACTCTCCCAAAACCAGGACTGGGAGCATGGCCAAACTTCATAGTGAGCTTACTTGCCTCTGACACACAAGGCAGCA. Let's decompose the question to sub-questions and solve them step by step.\",\n",
    "    config=model_config,\n",
    "    pydantic_model=GeneHopResult,\n",
    ")\n",
    "print(\"structure:\", answer_json)    \n",
    "'''\n",
    "\"OR10A2\",\n",
    "\"OST363\",\n",
    "\"OR10A2P\",\n",
    "\"OR11-82\",\n",
    "\"OR11-86\"\n",
    "'''\n"
   ]
  },
  {
   "cell_type": "markdown",
   "id": "3103ef75",
   "metadata": {},
   "source": [
    "## 5. Metrics"
   ]
  },
  {
   "cell_type": "markdown",
   "id": "8cc440b3",
   "metadata": {
    "tags": [
     "skip"
    ]
   },
   "source": [
    "* **Default exact match** - The predicted answers and ground truth are both strings. The score is 1 if they are equal and 0 otherwise\n",
    "* **Gene disease association** - The predicted answers and ground truth are both lists of gene-disease associations. The score is the proportion of correct associations present in the prediction\n",
    "* **Disease gene location** - The predicted and true answers are lists (e.g., gene locations related to a disease), and the evaluation calculates the fraction of the correct items present in the prediction.\n",
    "* **Human genome DNA aligment** - 1 point for exact match, 0.5 point if chrX part matches, 0 otherwise"
   ]
  },
  {
   "cell_type": "code",
   "execution_count": 15,
   "id": "524dea44",
   "metadata": {},
   "outputs": [],
   "source": [
    "import re\n",
    "from typing import Union, List\n",
    "\n",
    "\n",
    "def get_answer(pred: Union[GeneHopResult, str], task: str) -> Union[str, List[str]]:\n",
    "    \"\"\"\n",
    "    根据任务类型提取并清洗答案。\n",
    "    - 支持输入 GeneHopResult 或纯文本\n",
    "    - 返回:\n",
    "        • list[str]  : 对于 alias / location 任务\n",
    "        • str        : 对于 function 任务或其他\n",
    "    \"\"\"\n",
    "    # -------- 1. 统一拿到 answer 文本 -------- #\n",
    "    answer_text = pred.answer if isinstance(pred, GeneHopResult) else str(pred)\n",
    "    answer_text = answer_text.strip()\n",
    "\n",
    "    # -------- 2. 按任务清洗 -------- #\n",
    "    if task in [\"sequence gene alias\", \"Disease gene location\"]:\n",
    "        # 逗号 / 分号 / 换行切分，去掉多余空格\n",
    "        return [a.strip() for a in re.split(r\"[;,]\\s*|\\n\", answer_text) if a.strip()]\n",
    "\n",
    "    elif task == \"SNP gene function\":\n",
    "        # 保留完整句子\n",
    "        return answer_text\n",
    "\n",
    "    else:\n",
    "        # 其他任务：只去首尾空格\n",
    "        return answer_text"
   ]
  },
  {
   "cell_type": "code",
   "execution_count": 21,
   "id": "c575ab56",
   "metadata": {},
   "outputs": [],
   "source": [
    "# 5.1 Implement metrics\n",
    "# 5.1 Implement metrics\n",
    "from typing import List, Union\n",
    "import re\n",
    "import Levenshtein\n",
    "import torch\n",
    "import torch.nn.functional as F\n",
    "from transformers import AutoTokenizer, AutoModel\n",
    "os.environ[\"NO_PROXY\"] = os.environ.get(\"NO_PROXY\", \"\") + \",198.215.61.34\"\n",
    "os.environ[\"no_proxy\"] = os.environ[\"NO_PROXY\"]               # 有些系统区分大小写\n",
    "\n",
    "# ========== A. levenshtein solution ==========\n",
    "def levenshtein_similarity(s1: str, s2: str) -> float:\n",
    "    \"\"\"1-Levenshtein  / max_len → [0,1]\"\"\"\n",
    "    s1, s2 = s1.strip().lower(), s2.strip().lower()\n",
    "    if not s1 and not s2:\n",
    "        return 1.0\n",
    "    dist = Levenshtein.distance(s1, s2)\n",
    "    return 1 - dist / max(len(s1), len(s2))\n",
    "\n",
    "# ========== B. BioLORD local solution ==========\n",
    "_tokenizer, _model = None, None\n",
    "def _get_encoder():\n",
    "    global _tokenizer, _model\n",
    "    if _tokenizer is None:\n",
    "        mname = \"FremyCompany/BioLORD-2023\"\n",
    "        _tokenizer = AutoTokenizer.from_pretrained(mname)\n",
    "        _model     = AutoModel.from_pretrained(mname)\n",
    "        _model.eval()\n",
    "    return _tokenizer, _model\n",
    "\n",
    "def _mean_pooling(model_output, attention_mask):\n",
    "    token_emb = model_output[0]\n",
    "    mask_exp  = attention_mask.unsqueeze(-1).float()\n",
    "    return (token_emb * mask_exp).sum(1) / mask_exp.sum(1).clamp(min=1e-9)\n",
    "\n",
    "def sentence_embedding_local(texts: List[str]) -> torch.Tensor:\n",
    "    tokenizer, model = _get_encoder()\n",
    "    encoded = tokenizer(texts, padding=True, truncation=True, return_tensors=\"pt\")\n",
    "    with torch.no_grad():\n",
    "        model_output = model(**encoded)\n",
    "    emb = _mean_pooling(model_output, encoded[\"attention_mask\"])\n",
    "    return F.normalize(emb, p=2, dim=1)\n",
    "#  ==========C.API===================\n",
    "def sentence_embedding_api(texts: List[str], url: str = \"http://198.215.61.34:8152/embed\") -> torch.Tensor:\n",
    "    try:\n",
    "        resp = requests.post(url, json={\"sentences\": texts}, timeout=30)\n",
    "        resp.raise_for_status()\n",
    "        embs = resp.json()[\"embeddings\"]   # shape: [N, D]\n",
    "        return F.normalize(torch.tensor(embs), p=2, dim=1)\n",
    "    except Exception as e:\n",
    "        print(f\"[Embedding API ERROR] {e}\")\n",
    "        return torch.zeros(len(texts), 768)\n",
    "    \n",
    "# ===========split comma=============\n",
    "def _to_list(txt_or_list: Union[str, List[str]]) -> List[str]:\n",
    "    if isinstance(txt_or_list, list):\n",
    "        return txt_or_list\n",
    "    return [p.strip() for p in re.split(r\"[;,]\\s*|\\n\", txt_or_list.strip()) if p.strip()] \n",
    "\n",
    "# ===================evaluation==============\n",
    "def evaluate_answer(pred: Union[str, List[str]],\n",
    "                    gold: Union[str, List[str]],\n",
    "                    task: str,\n",
    "                    thr: float = 0.8,\n",
    "                    use_api: bool = False) -> float:\n",
    "    \"\"\"\n",
    "    统一评估函数：\n",
    "    - pred / gold: 预测和标准答案\n",
    "    - task: 任务类型（用于选择评估方式）\n",
    "    - use_api: 是否使用远程 API 获取句向量（默认使用本地模型）\n",
    "    \"\"\"\n",
    "    task = task.lower()\n",
    "\n",
    "    # ========== 1. gene alias / gene location ==========\n",
    "    if \"alias\" in task or \"location\" in task:\n",
    "        pred_list = _to_list(pred)\n",
    "        gold_list = _to_list(gold)\n",
    "        if not gold_list:\n",
    "            return 0.0\n",
    "        sim_scores = [\n",
    "            max(levenshtein_similarity(p, g) for g in gold_list)\n",
    "            for p in pred_list\n",
    "        ]\n",
    "        sim_scores = [s for s in sim_scores if s >= thr]\n",
    "        return sum(sim_scores) / len(pred_list) if pred_list else 0.0\n",
    "\n",
    "    # ========== 2. SNP gene function ==========\n",
    "    elif \"function\" in task:\n",
    "        if not pred or not gold:\n",
    "            return 0.0\n",
    "        texts = [str(pred), str(gold)]\n",
    "        emb = sentence_embedding_api(texts) if use_api else sentence_embedding_local(texts)\n",
    "        return float(F.cosine_similarity(emb[0], emb[1], dim=0))\n",
    "\n",
    "    # ========== 3. fallback ===============\n",
    "    else:\n",
    "        return levenshtein_similarity(str(pred), str(gold))\n"
   ]
  },
  {
   "cell_type": "code",
   "execution_count": 22,
   "id": "64a4d9db",
   "metadata": {},
   "outputs": [
    {
     "data": {
      "text/plain": [
       "tensor([[ 0.0274, -0.0088,  0.0143,  ...,  0.0100,  0.0378,  0.0126],\n",
       "        [ 0.0629,  0.0417,  0.0200,  ..., -0.0208,  0.0232,  0.0399]])"
      ]
     },
     "execution_count": 22,
     "metadata": {},
     "output_type": "execute_result"
    }
   ],
   "source": [
    "sentence_embedding_api([\"hello\", \"world\"])"
   ]
  },
  {
   "cell_type": "markdown",
   "id": "8d1ebe36",
   "metadata": {
    "tags": [
     "skip"
    ]
   },
   "source": [
    "Many of the gold-answers are in a specific format. `evaluate.py` also implements an answer post-processing function `get_answer` to better align model outputs with the gold answers. We also need to implement a similar function."
   ]
  },
  {
   "cell_type": "code",
   "execution_count": 17,
   "id": "0bd36ebe",
   "metadata": {},
   "outputs": [],
   "source": [
    "# 5.2 Implement the answer mapping function\n",
    "def score_answer(pred: list[str], true: list[str], task: str) -> float:\n",
    "    score = evaluate_answer(pred, true, task, thr=0.8, use_api=True)\n",
    "    return score\n",
    "\n"
   ]
  },
  {
   "cell_type": "markdown",
   "id": "413e73a3",
   "metadata": {},
   "source": [
    "## 6. Evaluation Loop"
   ]
  },
  {
   "cell_type": "markdown",
   "id": "131aba90",
   "metadata": {
    "tags": [
     "skip"
    ]
   },
   "source": [
    "Now, let's implement the evaluation loop for the GeneTuring dataset. For now we will call the model function one at a time and collect the results in a list. Also, we will collect per-task metrics and the overall metrics for the dataset as we go. Once we're done, we will save the results to a CSV file."
   ]
  },
  {
   "cell_type": "code",
   "execution_count": 18,
   "id": "78868c8a",
   "metadata": {},
   "outputs": [],
   "source": [
    "# 6.1 Set up data structures for results\n",
    "\n",
    "@dataclass\n",
    "class Result:\n",
    "    id: int\n",
    "    task: str\n",
    "    question: str\n",
    "    answer: str\n",
    "    raw_prediction: Optional[str]            # 原始模型输出文本\n",
    "    processed_prediction: Optional[Union[str, List[str], Dict]]  # 提取后的干净结构化答案\n",
    "    score: Optional[float]\n",
    "    success: bool                            # 是否成功解析 + 匹配\n",
    "\n",
    "import csv\n",
    "from dataclasses import asdict\n",
    "def save_results(results: List[Result], results_csv_filename: str) -> None:\n",
    "    with open(results_csv_filename, mode='w', newline='', encoding='utf-8') as f:\n",
    "        writer = csv.DictWriter(f, fieldnames=[field.name for field in Result.__dataclass_fields__.values()])\n",
    "        writer.writeheader()\n",
    "        for r in results:\n",
    "            writer.writerow(asdict(r))\n",
    "\n",
    "import json\n",
    "\n",
    "def save_results_jsonl(results: List[Result], filename: str):\n",
    "    with open(filename, 'w', encoding='utf-8') as f:\n",
    "        for r in results:\n",
    "            f.write(json.dumps(asdict(r)) + '\\n')\n"
   ]
  },
  {
   "cell_type": "code",
   "execution_count": 19,
   "id": "56608117",
   "metadata": {},
   "outputs": [
    {
     "name": "stderr",
     "output_type": "stream",
     "text": [
      "Evaluating:   9%|▊         | 13/150 [00:17<03:03,  1.34s/it]\n"
     ]
    },
    {
     "ename": "KeyboardInterrupt",
     "evalue": "",
     "output_type": "error",
     "traceback": [
      "\u001b[31m---------------------------------------------------------------------------\u001b[39m",
      "\u001b[31mKeyboardInterrupt\u001b[39m                         Traceback (most recent call last)",
      "\u001b[36mCell\u001b[39m\u001b[36m \u001b[39m\u001b[32mIn[19]\u001b[39m\u001b[32m, line 41\u001b[39m\n\u001b[32m     38\u001b[39m \u001b[38;5;28;01mfor\u001b[39;00m i, row \u001b[38;5;129;01min\u001b[39;00m tqdm(df.iterrows(), total=\u001b[38;5;28mlen\u001b[39m(df), desc=\u001b[33m\"\u001b[39m\u001b[33mEvaluating\u001b[39m\u001b[33m\"\u001b[39m):\n\u001b[32m     39\u001b[39m     \u001b[38;5;28;01mtry\u001b[39;00m:\n\u001b[32m     40\u001b[39m         \u001b[38;5;66;03m# 1) 向 LLM 获取原始预测\u001b[39;00m\n\u001b[32m---> \u001b[39m\u001b[32m41\u001b[39m         raw_prediction =\u001b[43mquery_gene_gpt_model\u001b[49m\u001b[43m(\u001b[49m\n\u001b[32m     42\u001b[39m \u001b[43m            \u001b[49m\u001b[43mclient\u001b[49m\u001b[43m=\u001b[49m\u001b[43mclient\u001b[49m\u001b[43m,\u001b[49m\n\u001b[32m     43\u001b[39m \u001b[43m            \u001b[49m\u001b[43msystem_prompt\u001b[49m\u001b[43m=\u001b[49m\u001b[43msystem_content\u001b[49m\u001b[43m+\u001b[49m\u001b[33;43m\"\u001b[39;49m\u001b[38;5;130;43;01m\\n\u001b[39;49;00m\u001b[33;43mReturn result in JSON.\u001b[39;49m\u001b[33;43m\"\u001b[39;49m\u001b[43m,\u001b[49m\n\u001b[32m     44\u001b[39m \u001b[43m            \u001b[49m\u001b[43mexample_messages\u001b[49m\u001b[43m=\u001b[49m\u001b[43mexample_messages\u001b[49m\u001b[43m,\u001b[49m\n\u001b[32m     45\u001b[39m \u001b[43m            \u001b[49m\u001b[43minstructions\u001b[49m\u001b[43m=\u001b[49m\u001b[43minstructions\u001b[49m\u001b[43m,\u001b[49m\n\u001b[32m     46\u001b[39m \u001b[43m            \u001b[49m\u001b[43muser_query\u001b[49m\u001b[43m=\u001b[49m\u001b[43mrow\u001b[49m\u001b[43m[\u001b[49m\u001b[33;43m'\u001b[39;49m\u001b[33;43mquestion\u001b[39;49m\u001b[33;43m'\u001b[39;49m\u001b[43m]\u001b[49m\u001b[43m,\u001b[49m\n\u001b[32m     47\u001b[39m \u001b[43m            \u001b[49m\u001b[43mconfig\u001b[49m\u001b[43m=\u001b[49m\u001b[43mmodel_config\u001b[49m\u001b[43m,\u001b[49m\n\u001b[32m     48\u001b[39m \u001b[43m            \u001b[49m\u001b[43mpydantic_model\u001b[49m\u001b[43m=\u001b[49m\u001b[43mGeneHopResult\u001b[49m\u001b[43m,\u001b[49m\n\u001b[32m     49\u001b[39m \u001b[43m        \u001b[49m\u001b[43m)\u001b[49m\n\u001b[32m     51\u001b[39m         \u001b[38;5;66;03m# Process the prediction using get_answer function\u001b[39;00m\n\u001b[32m     52\u001b[39m         processed_prediction = get_answer(raw_prediction, row[\u001b[33m'\u001b[39m\u001b[33mtask\u001b[39m\u001b[33m'\u001b[39m])\n",
      "\u001b[36mCell\u001b[39m\u001b[36m \u001b[39m\u001b[32mIn[13]\u001b[39m\u001b[32m, line 43\u001b[39m, in \u001b[36mquery_gene_gpt_model\u001b[39m\u001b[34m(client, system_prompt, example_messages, instructions, user_query, config, pydantic_model, json_schema)\u001b[39m\n\u001b[32m     40\u001b[39m \u001b[38;5;28;01mif\u001b[39;00m pydantic_model \u001b[38;5;129;01mor\u001b[39;00m json_schema:\n\u001b[32m     41\u001b[39m     \u001b[38;5;66;03m# a. 使用 pydantic（推荐，类型安全）\u001b[39;00m\n\u001b[32m     42\u001b[39m     \u001b[38;5;28;01mif\u001b[39;00m pydantic_model \u001b[38;5;129;01mis\u001b[39;00m \u001b[38;5;129;01mnot\u001b[39;00m \u001b[38;5;28;01mNone\u001b[39;00m:\n\u001b[32m---> \u001b[39m\u001b[32m43\u001b[39m         completion = \u001b[43mclient\u001b[49m\u001b[43m.\u001b[49m\u001b[43mbeta\u001b[49m\u001b[43m.\u001b[49m\u001b[43mchat\u001b[49m\u001b[43m.\u001b[49m\u001b[43mcompletions\u001b[49m\u001b[43m.\u001b[49m\u001b[43mparse\u001b[49m\u001b[43m(\u001b[49m\n\u001b[32m     44\u001b[39m \u001b[43m            \u001b[49m\u001b[43m*\u001b[49m\u001b[43m*\u001b[49m\u001b[43mbase_kwargs\u001b[49m\u001b[43m,\u001b[49m\u001b[43m \u001b[49m\u001b[43mresponse_format\u001b[49m\u001b[43m=\u001b[49m\u001b[43mpydantic_model\u001b[49m\n\u001b[32m     45\u001b[39m \u001b[43m        \u001b[49m\u001b[43m)\u001b[49m\n\u001b[32m     46\u001b[39m         \u001b[38;5;28;01mreturn\u001b[39;00m completion.choices[\u001b[32m0\u001b[39m].message.parsed  \u001b[38;5;66;03m# 已是 pydantic 对象\u001b[39;00m\n\u001b[32m     48\u001b[39m     \u001b[38;5;66;03m# b. 仅要求 JSON（Azure 端不校验 schema，只保证合法 JSON）\u001b[39;00m\n",
      "\u001b[36mFile \u001b[39m\u001b[32m~/.local/lib/python3.11/site-packages/openai/resources/beta/chat/completions.py:158\u001b[39m, in \u001b[36mCompletions.parse\u001b[39m\u001b[34m(self, messages, model, audio, response_format, frequency_penalty, function_call, functions, logit_bias, logprobs, max_completion_tokens, max_tokens, metadata, modalities, n, parallel_tool_calls, prediction, presence_penalty, reasoning_effort, seed, service_tier, stop, store, stream_options, temperature, tool_choice, tools, top_logprobs, top_p, user, web_search_options, extra_headers, extra_query, extra_body, timeout)\u001b[39m\n\u001b[32m    151\u001b[39m \u001b[38;5;28;01mdef\u001b[39;00m\u001b[38;5;250m \u001b[39m\u001b[34mparser\u001b[39m(raw_completion: ChatCompletion) -> ParsedChatCompletion[ResponseFormatT]:\n\u001b[32m    152\u001b[39m     \u001b[38;5;28;01mreturn\u001b[39;00m _parse_chat_completion(\n\u001b[32m    153\u001b[39m         response_format=response_format,\n\u001b[32m    154\u001b[39m         chat_completion=raw_completion,\n\u001b[32m    155\u001b[39m         input_tools=tools,\n\u001b[32m    156\u001b[39m     )\n\u001b[32m--> \u001b[39m\u001b[32m158\u001b[39m \u001b[38;5;28;01mreturn\u001b[39;00m \u001b[38;5;28;43mself\u001b[39;49m\u001b[43m.\u001b[49m\u001b[43m_post\u001b[49m\u001b[43m(\u001b[49m\n\u001b[32m    159\u001b[39m \u001b[43m    \u001b[49m\u001b[33;43m\"\u001b[39;49m\u001b[33;43m/chat/completions\u001b[39;49m\u001b[33;43m\"\u001b[39;49m\u001b[43m,\u001b[49m\n\u001b[32m    160\u001b[39m \u001b[43m    \u001b[49m\u001b[43mbody\u001b[49m\u001b[43m=\u001b[49m\u001b[43mmaybe_transform\u001b[49m\u001b[43m(\u001b[49m\n\u001b[32m    161\u001b[39m \u001b[43m        \u001b[49m\u001b[43m{\u001b[49m\n\u001b[32m    162\u001b[39m \u001b[43m            \u001b[49m\u001b[33;43m\"\u001b[39;49m\u001b[33;43mmessages\u001b[39;49m\u001b[33;43m\"\u001b[39;49m\u001b[43m:\u001b[49m\u001b[43m \u001b[49m\u001b[43mmessages\u001b[49m\u001b[43m,\u001b[49m\n\u001b[32m    163\u001b[39m \u001b[43m            \u001b[49m\u001b[33;43m\"\u001b[39;49m\u001b[33;43mmodel\u001b[39;49m\u001b[33;43m\"\u001b[39;49m\u001b[43m:\u001b[49m\u001b[43m \u001b[49m\u001b[43mmodel\u001b[49m\u001b[43m,\u001b[49m\n\u001b[32m    164\u001b[39m \u001b[43m            \u001b[49m\u001b[33;43m\"\u001b[39;49m\u001b[33;43maudio\u001b[39;49m\u001b[33;43m\"\u001b[39;49m\u001b[43m:\u001b[49m\u001b[43m \u001b[49m\u001b[43maudio\u001b[49m\u001b[43m,\u001b[49m\n\u001b[32m    165\u001b[39m \u001b[43m            \u001b[49m\u001b[33;43m\"\u001b[39;49m\u001b[33;43mfrequency_penalty\u001b[39;49m\u001b[33;43m\"\u001b[39;49m\u001b[43m:\u001b[49m\u001b[43m \u001b[49m\u001b[43mfrequency_penalty\u001b[49m\u001b[43m,\u001b[49m\n\u001b[32m    166\u001b[39m \u001b[43m            \u001b[49m\u001b[33;43m\"\u001b[39;49m\u001b[33;43mfunction_call\u001b[39;49m\u001b[33;43m\"\u001b[39;49m\u001b[43m:\u001b[49m\u001b[43m \u001b[49m\u001b[43mfunction_call\u001b[49m\u001b[43m,\u001b[49m\n\u001b[32m    167\u001b[39m \u001b[43m            \u001b[49m\u001b[33;43m\"\u001b[39;49m\u001b[33;43mfunctions\u001b[39;49m\u001b[33;43m\"\u001b[39;49m\u001b[43m:\u001b[49m\u001b[43m \u001b[49m\u001b[43mfunctions\u001b[49m\u001b[43m,\u001b[49m\n\u001b[32m    168\u001b[39m \u001b[43m            \u001b[49m\u001b[33;43m\"\u001b[39;49m\u001b[33;43mlogit_bias\u001b[39;49m\u001b[33;43m\"\u001b[39;49m\u001b[43m:\u001b[49m\u001b[43m \u001b[49m\u001b[43mlogit_bias\u001b[49m\u001b[43m,\u001b[49m\n\u001b[32m    169\u001b[39m \u001b[43m            \u001b[49m\u001b[33;43m\"\u001b[39;49m\u001b[33;43mlogprobs\u001b[39;49m\u001b[33;43m\"\u001b[39;49m\u001b[43m:\u001b[49m\u001b[43m \u001b[49m\u001b[43mlogprobs\u001b[49m\u001b[43m,\u001b[49m\n\u001b[32m    170\u001b[39m \u001b[43m            \u001b[49m\u001b[33;43m\"\u001b[39;49m\u001b[33;43mmax_completion_tokens\u001b[39;49m\u001b[33;43m\"\u001b[39;49m\u001b[43m:\u001b[49m\u001b[43m \u001b[49m\u001b[43mmax_completion_tokens\u001b[49m\u001b[43m,\u001b[49m\n\u001b[32m    171\u001b[39m \u001b[43m            \u001b[49m\u001b[33;43m\"\u001b[39;49m\u001b[33;43mmax_tokens\u001b[39;49m\u001b[33;43m\"\u001b[39;49m\u001b[43m:\u001b[49m\u001b[43m \u001b[49m\u001b[43mmax_tokens\u001b[49m\u001b[43m,\u001b[49m\n\u001b[32m    172\u001b[39m \u001b[43m            \u001b[49m\u001b[33;43m\"\u001b[39;49m\u001b[33;43mmetadata\u001b[39;49m\u001b[33;43m\"\u001b[39;49m\u001b[43m:\u001b[49m\u001b[43m \u001b[49m\u001b[43mmetadata\u001b[49m\u001b[43m,\u001b[49m\n\u001b[32m    173\u001b[39m \u001b[43m            \u001b[49m\u001b[33;43m\"\u001b[39;49m\u001b[33;43mmodalities\u001b[39;49m\u001b[33;43m\"\u001b[39;49m\u001b[43m:\u001b[49m\u001b[43m \u001b[49m\u001b[43mmodalities\u001b[49m\u001b[43m,\u001b[49m\n\u001b[32m    174\u001b[39m \u001b[43m            \u001b[49m\u001b[33;43m\"\u001b[39;49m\u001b[33;43mn\u001b[39;49m\u001b[33;43m\"\u001b[39;49m\u001b[43m:\u001b[49m\u001b[43m \u001b[49m\u001b[43mn\u001b[49m\u001b[43m,\u001b[49m\n\u001b[32m    175\u001b[39m \u001b[43m            \u001b[49m\u001b[33;43m\"\u001b[39;49m\u001b[33;43mparallel_tool_calls\u001b[39;49m\u001b[33;43m\"\u001b[39;49m\u001b[43m:\u001b[49m\u001b[43m \u001b[49m\u001b[43mparallel_tool_calls\u001b[49m\u001b[43m,\u001b[49m\n\u001b[32m    176\u001b[39m \u001b[43m            \u001b[49m\u001b[33;43m\"\u001b[39;49m\u001b[33;43mprediction\u001b[39;49m\u001b[33;43m\"\u001b[39;49m\u001b[43m:\u001b[49m\u001b[43m \u001b[49m\u001b[43mprediction\u001b[49m\u001b[43m,\u001b[49m\n\u001b[32m    177\u001b[39m \u001b[43m            \u001b[49m\u001b[33;43m\"\u001b[39;49m\u001b[33;43mpresence_penalty\u001b[39;49m\u001b[33;43m\"\u001b[39;49m\u001b[43m:\u001b[49m\u001b[43m \u001b[49m\u001b[43mpresence_penalty\u001b[49m\u001b[43m,\u001b[49m\n\u001b[32m    178\u001b[39m \u001b[43m            \u001b[49m\u001b[33;43m\"\u001b[39;49m\u001b[33;43mreasoning_effort\u001b[39;49m\u001b[33;43m\"\u001b[39;49m\u001b[43m:\u001b[49m\u001b[43m \u001b[49m\u001b[43mreasoning_effort\u001b[49m\u001b[43m,\u001b[49m\n\u001b[32m    179\u001b[39m \u001b[43m            \u001b[49m\u001b[33;43m\"\u001b[39;49m\u001b[33;43mresponse_format\u001b[39;49m\u001b[33;43m\"\u001b[39;49m\u001b[43m:\u001b[49m\u001b[43m \u001b[49m\u001b[43m_type_to_response_format\u001b[49m\u001b[43m(\u001b[49m\u001b[43mresponse_format\u001b[49m\u001b[43m)\u001b[49m\u001b[43m,\u001b[49m\n\u001b[32m    180\u001b[39m \u001b[43m            \u001b[49m\u001b[33;43m\"\u001b[39;49m\u001b[33;43mseed\u001b[39;49m\u001b[33;43m\"\u001b[39;49m\u001b[43m:\u001b[49m\u001b[43m \u001b[49m\u001b[43mseed\u001b[49m\u001b[43m,\u001b[49m\n\u001b[32m    181\u001b[39m \u001b[43m            \u001b[49m\u001b[33;43m\"\u001b[39;49m\u001b[33;43mservice_tier\u001b[39;49m\u001b[33;43m\"\u001b[39;49m\u001b[43m:\u001b[49m\u001b[43m \u001b[49m\u001b[43mservice_tier\u001b[49m\u001b[43m,\u001b[49m\n\u001b[32m    182\u001b[39m \u001b[43m            \u001b[49m\u001b[33;43m\"\u001b[39;49m\u001b[33;43mstop\u001b[39;49m\u001b[33;43m\"\u001b[39;49m\u001b[43m:\u001b[49m\u001b[43m \u001b[49m\u001b[43mstop\u001b[49m\u001b[43m,\u001b[49m\n\u001b[32m    183\u001b[39m \u001b[43m            \u001b[49m\u001b[33;43m\"\u001b[39;49m\u001b[33;43mstore\u001b[39;49m\u001b[33;43m\"\u001b[39;49m\u001b[43m:\u001b[49m\u001b[43m \u001b[49m\u001b[43mstore\u001b[49m\u001b[43m,\u001b[49m\n\u001b[32m    184\u001b[39m \u001b[43m            \u001b[49m\u001b[33;43m\"\u001b[39;49m\u001b[33;43mstream\u001b[39;49m\u001b[33;43m\"\u001b[39;49m\u001b[43m:\u001b[49m\u001b[43m \u001b[49m\u001b[38;5;28;43;01mFalse\u001b[39;49;00m\u001b[43m,\u001b[49m\n\u001b[32m    185\u001b[39m \u001b[43m            \u001b[49m\u001b[33;43m\"\u001b[39;49m\u001b[33;43mstream_options\u001b[39;49m\u001b[33;43m\"\u001b[39;49m\u001b[43m:\u001b[49m\u001b[43m \u001b[49m\u001b[43mstream_options\u001b[49m\u001b[43m,\u001b[49m\n\u001b[32m    186\u001b[39m \u001b[43m            \u001b[49m\u001b[33;43m\"\u001b[39;49m\u001b[33;43mtemperature\u001b[39;49m\u001b[33;43m\"\u001b[39;49m\u001b[43m:\u001b[49m\u001b[43m \u001b[49m\u001b[43mtemperature\u001b[49m\u001b[43m,\u001b[49m\n\u001b[32m    187\u001b[39m \u001b[43m            \u001b[49m\u001b[33;43m\"\u001b[39;49m\u001b[33;43mtool_choice\u001b[39;49m\u001b[33;43m\"\u001b[39;49m\u001b[43m:\u001b[49m\u001b[43m \u001b[49m\u001b[43mtool_choice\u001b[49m\u001b[43m,\u001b[49m\n\u001b[32m    188\u001b[39m \u001b[43m            \u001b[49m\u001b[33;43m\"\u001b[39;49m\u001b[33;43mtools\u001b[39;49m\u001b[33;43m\"\u001b[39;49m\u001b[43m:\u001b[49m\u001b[43m \u001b[49m\u001b[43mtools\u001b[49m\u001b[43m,\u001b[49m\n\u001b[32m    189\u001b[39m \u001b[43m            \u001b[49m\u001b[33;43m\"\u001b[39;49m\u001b[33;43mtop_logprobs\u001b[39;49m\u001b[33;43m\"\u001b[39;49m\u001b[43m:\u001b[49m\u001b[43m \u001b[49m\u001b[43mtop_logprobs\u001b[49m\u001b[43m,\u001b[49m\n\u001b[32m    190\u001b[39m \u001b[43m            \u001b[49m\u001b[33;43m\"\u001b[39;49m\u001b[33;43mtop_p\u001b[39;49m\u001b[33;43m\"\u001b[39;49m\u001b[43m:\u001b[49m\u001b[43m \u001b[49m\u001b[43mtop_p\u001b[49m\u001b[43m,\u001b[49m\n\u001b[32m    191\u001b[39m \u001b[43m            \u001b[49m\u001b[33;43m\"\u001b[39;49m\u001b[33;43muser\u001b[39;49m\u001b[33;43m\"\u001b[39;49m\u001b[43m:\u001b[49m\u001b[43m \u001b[49m\u001b[43muser\u001b[49m\u001b[43m,\u001b[49m\n\u001b[32m    192\u001b[39m \u001b[43m            \u001b[49m\u001b[33;43m\"\u001b[39;49m\u001b[33;43mweb_search_options\u001b[39;49m\u001b[33;43m\"\u001b[39;49m\u001b[43m:\u001b[49m\u001b[43m \u001b[49m\u001b[43mweb_search_options\u001b[49m\u001b[43m,\u001b[49m\n\u001b[32m    193\u001b[39m \u001b[43m        \u001b[49m\u001b[43m}\u001b[49m\u001b[43m,\u001b[49m\n\u001b[32m    194\u001b[39m \u001b[43m        \u001b[49m\u001b[43mcompletion_create_params\u001b[49m\u001b[43m.\u001b[49m\u001b[43mCompletionCreateParams\u001b[49m\u001b[43m,\u001b[49m\n\u001b[32m    195\u001b[39m \u001b[43m    \u001b[49m\u001b[43m)\u001b[49m\u001b[43m,\u001b[49m\n\u001b[32m    196\u001b[39m \u001b[43m    \u001b[49m\u001b[43moptions\u001b[49m\u001b[43m=\u001b[49m\u001b[43mmake_request_options\u001b[49m\u001b[43m(\u001b[49m\n\u001b[32m    197\u001b[39m \u001b[43m        \u001b[49m\u001b[43mextra_headers\u001b[49m\u001b[43m=\u001b[49m\u001b[43mextra_headers\u001b[49m\u001b[43m,\u001b[49m\n\u001b[32m    198\u001b[39m \u001b[43m        \u001b[49m\u001b[43mextra_query\u001b[49m\u001b[43m=\u001b[49m\u001b[43mextra_query\u001b[49m\u001b[43m,\u001b[49m\n\u001b[32m    199\u001b[39m \u001b[43m        \u001b[49m\u001b[43mextra_body\u001b[49m\u001b[43m=\u001b[49m\u001b[43mextra_body\u001b[49m\u001b[43m,\u001b[49m\n\u001b[32m    200\u001b[39m \u001b[43m        \u001b[49m\u001b[43mtimeout\u001b[49m\u001b[43m=\u001b[49m\u001b[43mtimeout\u001b[49m\u001b[43m,\u001b[49m\n\u001b[32m    201\u001b[39m \u001b[43m        \u001b[49m\u001b[43mpost_parser\u001b[49m\u001b[43m=\u001b[49m\u001b[43mparser\u001b[49m\u001b[43m,\u001b[49m\n\u001b[32m    202\u001b[39m \u001b[43m    \u001b[49m\u001b[43m)\u001b[49m\u001b[43m,\u001b[49m\n\u001b[32m    203\u001b[39m \u001b[43m    \u001b[49m\u001b[38;5;66;43;03m# we turn the `ChatCompletion` instance into a `ParsedChatCompletion`\u001b[39;49;00m\n\u001b[32m    204\u001b[39m \u001b[43m    \u001b[49m\u001b[38;5;66;43;03m# in the `parser` function above\u001b[39;49;00m\n\u001b[32m    205\u001b[39m \u001b[43m    \u001b[49m\u001b[43mcast_to\u001b[49m\u001b[43m=\u001b[49m\u001b[43mcast\u001b[49m\u001b[43m(\u001b[49m\u001b[43mType\u001b[49m\u001b[43m[\u001b[49m\u001b[43mParsedChatCompletion\u001b[49m\u001b[43m[\u001b[49m\u001b[43mResponseFormatT\u001b[49m\u001b[43m]\u001b[49m\u001b[43m]\u001b[49m\u001b[43m,\u001b[49m\u001b[43m \u001b[49m\u001b[43mChatCompletion\u001b[49m\u001b[43m)\u001b[49m\u001b[43m,\u001b[49m\n\u001b[32m    206\u001b[39m \u001b[43m    \u001b[49m\u001b[43mstream\u001b[49m\u001b[43m=\u001b[49m\u001b[38;5;28;43;01mFalse\u001b[39;49;00m\u001b[43m,\u001b[49m\n\u001b[32m    207\u001b[39m \u001b[43m\u001b[49m\u001b[43m)\u001b[49m\n",
      "\u001b[36mFile \u001b[39m\u001b[32m~/.local/lib/python3.11/site-packages/openai/_base_client.py:1242\u001b[39m, in \u001b[36mSyncAPIClient.post\u001b[39m\u001b[34m(self, path, cast_to, body, options, files, stream, stream_cls)\u001b[39m\n\u001b[32m   1228\u001b[39m \u001b[38;5;28;01mdef\u001b[39;00m\u001b[38;5;250m \u001b[39m\u001b[34mpost\u001b[39m(\n\u001b[32m   1229\u001b[39m     \u001b[38;5;28mself\u001b[39m,\n\u001b[32m   1230\u001b[39m     path: \u001b[38;5;28mstr\u001b[39m,\n\u001b[32m   (...)\u001b[39m\u001b[32m   1237\u001b[39m     stream_cls: \u001b[38;5;28mtype\u001b[39m[_StreamT] | \u001b[38;5;28;01mNone\u001b[39;00m = \u001b[38;5;28;01mNone\u001b[39;00m,\n\u001b[32m   1238\u001b[39m ) -> ResponseT | _StreamT:\n\u001b[32m   1239\u001b[39m     opts = FinalRequestOptions.construct(\n\u001b[32m   1240\u001b[39m         method=\u001b[33m\"\u001b[39m\u001b[33mpost\u001b[39m\u001b[33m\"\u001b[39m, url=path, json_data=body, files=to_httpx_files(files), **options\n\u001b[32m   1241\u001b[39m     )\n\u001b[32m-> \u001b[39m\u001b[32m1242\u001b[39m     \u001b[38;5;28;01mreturn\u001b[39;00m cast(ResponseT, \u001b[38;5;28;43mself\u001b[39;49m\u001b[43m.\u001b[49m\u001b[43mrequest\u001b[49m\u001b[43m(\u001b[49m\u001b[43mcast_to\u001b[49m\u001b[43m,\u001b[49m\u001b[43m \u001b[49m\u001b[43mopts\u001b[49m\u001b[43m,\u001b[49m\u001b[43m \u001b[49m\u001b[43mstream\u001b[49m\u001b[43m=\u001b[49m\u001b[43mstream\u001b[49m\u001b[43m,\u001b[49m\u001b[43m \u001b[49m\u001b[43mstream_cls\u001b[49m\u001b[43m=\u001b[49m\u001b[43mstream_cls\u001b[49m\u001b[43m)\u001b[49m)\n",
      "\u001b[36mFile \u001b[39m\u001b[32m~/.local/lib/python3.11/site-packages/openai/_base_client.py:972\u001b[39m, in \u001b[36mSyncAPIClient.request\u001b[39m\u001b[34m(self, cast_to, options, stream, stream_cls)\u001b[39m\n\u001b[32m    970\u001b[39m response = \u001b[38;5;28;01mNone\u001b[39;00m\n\u001b[32m    971\u001b[39m \u001b[38;5;28;01mtry\u001b[39;00m:\n\u001b[32m--> \u001b[39m\u001b[32m972\u001b[39m     response = \u001b[38;5;28;43mself\u001b[39;49m\u001b[43m.\u001b[49m\u001b[43m_client\u001b[49m\u001b[43m.\u001b[49m\u001b[43msend\u001b[49m\u001b[43m(\u001b[49m\n\u001b[32m    973\u001b[39m \u001b[43m        \u001b[49m\u001b[43mrequest\u001b[49m\u001b[43m,\u001b[49m\n\u001b[32m    974\u001b[39m \u001b[43m        \u001b[49m\u001b[43mstream\u001b[49m\u001b[43m=\u001b[49m\u001b[43mstream\u001b[49m\u001b[43m \u001b[49m\u001b[38;5;129;43;01mor\u001b[39;49;00m\u001b[43m \u001b[49m\u001b[38;5;28;43mself\u001b[39;49m\u001b[43m.\u001b[49m\u001b[43m_should_stream_response_body\u001b[49m\u001b[43m(\u001b[49m\u001b[43mrequest\u001b[49m\u001b[43m=\u001b[49m\u001b[43mrequest\u001b[49m\u001b[43m)\u001b[49m\u001b[43m,\u001b[49m\n\u001b[32m    975\u001b[39m \u001b[43m        \u001b[49m\u001b[43m*\u001b[49m\u001b[43m*\u001b[49m\u001b[43mkwargs\u001b[49m\u001b[43m,\u001b[49m\n\u001b[32m    976\u001b[39m \u001b[43m    \u001b[49m\u001b[43m)\u001b[49m\n\u001b[32m    977\u001b[39m \u001b[38;5;28;01mexcept\u001b[39;00m httpx.TimeoutException \u001b[38;5;28;01mas\u001b[39;00m err:\n\u001b[32m    978\u001b[39m     log.debug(\u001b[33m\"\u001b[39m\u001b[33mEncountered httpx.TimeoutException\u001b[39m\u001b[33m\"\u001b[39m, exc_info=\u001b[38;5;28;01mTrue\u001b[39;00m)\n",
      "\u001b[36mFile \u001b[39m\u001b[32m~/.local/lib/python3.11/site-packages/httpx/_client.py:914\u001b[39m, in \u001b[36mClient.send\u001b[39m\u001b[34m(self, request, stream, auth, follow_redirects)\u001b[39m\n\u001b[32m    910\u001b[39m \u001b[38;5;28mself\u001b[39m._set_timeout(request)\n\u001b[32m    912\u001b[39m auth = \u001b[38;5;28mself\u001b[39m._build_request_auth(request, auth)\n\u001b[32m--> \u001b[39m\u001b[32m914\u001b[39m response = \u001b[38;5;28;43mself\u001b[39;49m\u001b[43m.\u001b[49m\u001b[43m_send_handling_auth\u001b[49m\u001b[43m(\u001b[49m\n\u001b[32m    915\u001b[39m \u001b[43m    \u001b[49m\u001b[43mrequest\u001b[49m\u001b[43m,\u001b[49m\n\u001b[32m    916\u001b[39m \u001b[43m    \u001b[49m\u001b[43mauth\u001b[49m\u001b[43m=\u001b[49m\u001b[43mauth\u001b[49m\u001b[43m,\u001b[49m\n\u001b[32m    917\u001b[39m \u001b[43m    \u001b[49m\u001b[43mfollow_redirects\u001b[49m\u001b[43m=\u001b[49m\u001b[43mfollow_redirects\u001b[49m\u001b[43m,\u001b[49m\n\u001b[32m    918\u001b[39m \u001b[43m    \u001b[49m\u001b[43mhistory\u001b[49m\u001b[43m=\u001b[49m\u001b[43m[\u001b[49m\u001b[43m]\u001b[49m\u001b[43m,\u001b[49m\n\u001b[32m    919\u001b[39m \u001b[43m\u001b[49m\u001b[43m)\u001b[49m\n\u001b[32m    920\u001b[39m \u001b[38;5;28;01mtry\u001b[39;00m:\n\u001b[32m    921\u001b[39m     \u001b[38;5;28;01mif\u001b[39;00m \u001b[38;5;129;01mnot\u001b[39;00m stream:\n",
      "\u001b[36mFile \u001b[39m\u001b[32m~/.local/lib/python3.11/site-packages/httpx/_client.py:942\u001b[39m, in \u001b[36mClient._send_handling_auth\u001b[39m\u001b[34m(self, request, auth, follow_redirects, history)\u001b[39m\n\u001b[32m    939\u001b[39m request = \u001b[38;5;28mnext\u001b[39m(auth_flow)\n\u001b[32m    941\u001b[39m \u001b[38;5;28;01mwhile\u001b[39;00m \u001b[38;5;28;01mTrue\u001b[39;00m:\n\u001b[32m--> \u001b[39m\u001b[32m942\u001b[39m     response = \u001b[38;5;28;43mself\u001b[39;49m\u001b[43m.\u001b[49m\u001b[43m_send_handling_redirects\u001b[49m\u001b[43m(\u001b[49m\n\u001b[32m    943\u001b[39m \u001b[43m        \u001b[49m\u001b[43mrequest\u001b[49m\u001b[43m,\u001b[49m\n\u001b[32m    944\u001b[39m \u001b[43m        \u001b[49m\u001b[43mfollow_redirects\u001b[49m\u001b[43m=\u001b[49m\u001b[43mfollow_redirects\u001b[49m\u001b[43m,\u001b[49m\n\u001b[32m    945\u001b[39m \u001b[43m        \u001b[49m\u001b[43mhistory\u001b[49m\u001b[43m=\u001b[49m\u001b[43mhistory\u001b[49m\u001b[43m,\u001b[49m\n\u001b[32m    946\u001b[39m \u001b[43m    \u001b[49m\u001b[43m)\u001b[49m\n\u001b[32m    947\u001b[39m     \u001b[38;5;28;01mtry\u001b[39;00m:\n\u001b[32m    948\u001b[39m         \u001b[38;5;28;01mtry\u001b[39;00m:\n",
      "\u001b[36mFile \u001b[39m\u001b[32m~/.local/lib/python3.11/site-packages/httpx/_client.py:979\u001b[39m, in \u001b[36mClient._send_handling_redirects\u001b[39m\u001b[34m(self, request, follow_redirects, history)\u001b[39m\n\u001b[32m    976\u001b[39m \u001b[38;5;28;01mfor\u001b[39;00m hook \u001b[38;5;129;01min\u001b[39;00m \u001b[38;5;28mself\u001b[39m._event_hooks[\u001b[33m\"\u001b[39m\u001b[33mrequest\u001b[39m\u001b[33m\"\u001b[39m]:\n\u001b[32m    977\u001b[39m     hook(request)\n\u001b[32m--> \u001b[39m\u001b[32m979\u001b[39m response = \u001b[38;5;28;43mself\u001b[39;49m\u001b[43m.\u001b[49m\u001b[43m_send_single_request\u001b[49m\u001b[43m(\u001b[49m\u001b[43mrequest\u001b[49m\u001b[43m)\u001b[49m\n\u001b[32m    980\u001b[39m \u001b[38;5;28;01mtry\u001b[39;00m:\n\u001b[32m    981\u001b[39m     \u001b[38;5;28;01mfor\u001b[39;00m hook \u001b[38;5;129;01min\u001b[39;00m \u001b[38;5;28mself\u001b[39m._event_hooks[\u001b[33m\"\u001b[39m\u001b[33mresponse\u001b[39m\u001b[33m\"\u001b[39m]:\n",
      "\u001b[36mFile \u001b[39m\u001b[32m~/.local/lib/python3.11/site-packages/httpx/_client.py:1014\u001b[39m, in \u001b[36mClient._send_single_request\u001b[39m\u001b[34m(self, request)\u001b[39m\n\u001b[32m   1009\u001b[39m     \u001b[38;5;28;01mraise\u001b[39;00m \u001b[38;5;167;01mRuntimeError\u001b[39;00m(\n\u001b[32m   1010\u001b[39m         \u001b[33m\"\u001b[39m\u001b[33mAttempted to send an async request with a sync Client instance.\u001b[39m\u001b[33m\"\u001b[39m\n\u001b[32m   1011\u001b[39m     )\n\u001b[32m   1013\u001b[39m \u001b[38;5;28;01mwith\u001b[39;00m request_context(request=request):\n\u001b[32m-> \u001b[39m\u001b[32m1014\u001b[39m     response = \u001b[43mtransport\u001b[49m\u001b[43m.\u001b[49m\u001b[43mhandle_request\u001b[49m\u001b[43m(\u001b[49m\u001b[43mrequest\u001b[49m\u001b[43m)\u001b[49m\n\u001b[32m   1016\u001b[39m \u001b[38;5;28;01massert\u001b[39;00m \u001b[38;5;28misinstance\u001b[39m(response.stream, SyncByteStream)\n\u001b[32m   1018\u001b[39m response.request = request\n",
      "\u001b[36mFile \u001b[39m\u001b[32m~/.local/lib/python3.11/site-packages/httpx/_transports/default.py:250\u001b[39m, in \u001b[36mHTTPTransport.handle_request\u001b[39m\u001b[34m(self, request)\u001b[39m\n\u001b[32m    237\u001b[39m req = httpcore.Request(\n\u001b[32m    238\u001b[39m     method=request.method,\n\u001b[32m    239\u001b[39m     url=httpcore.URL(\n\u001b[32m   (...)\u001b[39m\u001b[32m    247\u001b[39m     extensions=request.extensions,\n\u001b[32m    248\u001b[39m )\n\u001b[32m    249\u001b[39m \u001b[38;5;28;01mwith\u001b[39;00m map_httpcore_exceptions():\n\u001b[32m--> \u001b[39m\u001b[32m250\u001b[39m     resp = \u001b[38;5;28;43mself\u001b[39;49m\u001b[43m.\u001b[49m\u001b[43m_pool\u001b[49m\u001b[43m.\u001b[49m\u001b[43mhandle_request\u001b[49m\u001b[43m(\u001b[49m\u001b[43mreq\u001b[49m\u001b[43m)\u001b[49m\n\u001b[32m    252\u001b[39m \u001b[38;5;28;01massert\u001b[39;00m \u001b[38;5;28misinstance\u001b[39m(resp.stream, typing.Iterable)\n\u001b[32m    254\u001b[39m \u001b[38;5;28;01mreturn\u001b[39;00m Response(\n\u001b[32m    255\u001b[39m     status_code=resp.status,\n\u001b[32m    256\u001b[39m     headers=resp.headers,\n\u001b[32m    257\u001b[39m     stream=ResponseStream(resp.stream),\n\u001b[32m    258\u001b[39m     extensions=resp.extensions,\n\u001b[32m    259\u001b[39m )\n",
      "\u001b[36mFile \u001b[39m\u001b[32m~/.local/lib/python3.11/site-packages/httpcore/_sync/connection_pool.py:256\u001b[39m, in \u001b[36mConnectionPool.handle_request\u001b[39m\u001b[34m(self, request)\u001b[39m\n\u001b[32m    253\u001b[39m         closing = \u001b[38;5;28mself\u001b[39m._assign_requests_to_connections()\n\u001b[32m    255\u001b[39m     \u001b[38;5;28mself\u001b[39m._close_connections(closing)\n\u001b[32m--> \u001b[39m\u001b[32m256\u001b[39m     \u001b[38;5;28;01mraise\u001b[39;00m exc \u001b[38;5;28;01mfrom\u001b[39;00m\u001b[38;5;250m \u001b[39m\u001b[38;5;28;01mNone\u001b[39;00m\n\u001b[32m    258\u001b[39m \u001b[38;5;66;03m# Return the response. Note that in this case we still have to manage\u001b[39;00m\n\u001b[32m    259\u001b[39m \u001b[38;5;66;03m# the point at which the response is closed.\u001b[39;00m\n\u001b[32m    260\u001b[39m \u001b[38;5;28;01massert\u001b[39;00m \u001b[38;5;28misinstance\u001b[39m(response.stream, typing.Iterable)\n",
      "\u001b[36mFile \u001b[39m\u001b[32m~/.local/lib/python3.11/site-packages/httpcore/_sync/connection_pool.py:236\u001b[39m, in \u001b[36mConnectionPool.handle_request\u001b[39m\u001b[34m(self, request)\u001b[39m\n\u001b[32m    232\u001b[39m connection = pool_request.wait_for_connection(timeout=timeout)\n\u001b[32m    234\u001b[39m \u001b[38;5;28;01mtry\u001b[39;00m:\n\u001b[32m    235\u001b[39m     \u001b[38;5;66;03m# Send the request on the assigned connection.\u001b[39;00m\n\u001b[32m--> \u001b[39m\u001b[32m236\u001b[39m     response = \u001b[43mconnection\u001b[49m\u001b[43m.\u001b[49m\u001b[43mhandle_request\u001b[49m\u001b[43m(\u001b[49m\n\u001b[32m    237\u001b[39m \u001b[43m        \u001b[49m\u001b[43mpool_request\u001b[49m\u001b[43m.\u001b[49m\u001b[43mrequest\u001b[49m\n\u001b[32m    238\u001b[39m \u001b[43m    \u001b[49m\u001b[43m)\u001b[49m\n\u001b[32m    239\u001b[39m \u001b[38;5;28;01mexcept\u001b[39;00m ConnectionNotAvailable:\n\u001b[32m    240\u001b[39m     \u001b[38;5;66;03m# In some cases a connection may initially be available to\u001b[39;00m\n\u001b[32m    241\u001b[39m     \u001b[38;5;66;03m# handle a request, but then become unavailable.\u001b[39;00m\n\u001b[32m    242\u001b[39m     \u001b[38;5;66;03m#\u001b[39;00m\n\u001b[32m    243\u001b[39m     \u001b[38;5;66;03m# In this case we clear the connection and try again.\u001b[39;00m\n\u001b[32m    244\u001b[39m     pool_request.clear_connection()\n",
      "\u001b[36mFile \u001b[39m\u001b[32m~/.local/lib/python3.11/site-packages/httpcore/_sync/http_proxy.py:343\u001b[39m, in \u001b[36mTunnelHTTPConnection.handle_request\u001b[39m\u001b[34m(self, request)\u001b[39m\n\u001b[32m    336\u001b[39m             \u001b[38;5;28mself\u001b[39m._connection = HTTP11Connection(\n\u001b[32m    337\u001b[39m                 origin=\u001b[38;5;28mself\u001b[39m._remote_origin,\n\u001b[32m    338\u001b[39m                 stream=stream,\n\u001b[32m    339\u001b[39m                 keepalive_expiry=\u001b[38;5;28mself\u001b[39m._keepalive_expiry,\n\u001b[32m    340\u001b[39m             )\n\u001b[32m    342\u001b[39m         \u001b[38;5;28mself\u001b[39m._connected = \u001b[38;5;28;01mTrue\u001b[39;00m\n\u001b[32m--> \u001b[39m\u001b[32m343\u001b[39m \u001b[38;5;28;01mreturn\u001b[39;00m \u001b[38;5;28;43mself\u001b[39;49m\u001b[43m.\u001b[49m\u001b[43m_connection\u001b[49m\u001b[43m.\u001b[49m\u001b[43mhandle_request\u001b[49m\u001b[43m(\u001b[49m\u001b[43mrequest\u001b[49m\u001b[43m)\u001b[49m\n",
      "\u001b[36mFile \u001b[39m\u001b[32m~/.local/lib/python3.11/site-packages/httpcore/_sync/http11.py:136\u001b[39m, in \u001b[36mHTTP11Connection.handle_request\u001b[39m\u001b[34m(self, request)\u001b[39m\n\u001b[32m    134\u001b[39m     \u001b[38;5;28;01mwith\u001b[39;00m Trace(\u001b[33m\"\u001b[39m\u001b[33mresponse_closed\u001b[39m\u001b[33m\"\u001b[39m, logger, request) \u001b[38;5;28;01mas\u001b[39;00m trace:\n\u001b[32m    135\u001b[39m         \u001b[38;5;28mself\u001b[39m._response_closed()\n\u001b[32m--> \u001b[39m\u001b[32m136\u001b[39m \u001b[38;5;28;01mraise\u001b[39;00m exc\n",
      "\u001b[36mFile \u001b[39m\u001b[32m~/.local/lib/python3.11/site-packages/httpcore/_sync/http11.py:106\u001b[39m, in \u001b[36mHTTP11Connection.handle_request\u001b[39m\u001b[34m(self, request)\u001b[39m\n\u001b[32m     95\u001b[39m     \u001b[38;5;28;01mpass\u001b[39;00m\n\u001b[32m     97\u001b[39m \u001b[38;5;28;01mwith\u001b[39;00m Trace(\n\u001b[32m     98\u001b[39m     \u001b[33m\"\u001b[39m\u001b[33mreceive_response_headers\u001b[39m\u001b[33m\"\u001b[39m, logger, request, kwargs\n\u001b[32m     99\u001b[39m ) \u001b[38;5;28;01mas\u001b[39;00m trace:\n\u001b[32m    100\u001b[39m     (\n\u001b[32m    101\u001b[39m         http_version,\n\u001b[32m    102\u001b[39m         status,\n\u001b[32m    103\u001b[39m         reason_phrase,\n\u001b[32m    104\u001b[39m         headers,\n\u001b[32m    105\u001b[39m         trailing_data,\n\u001b[32m--> \u001b[39m\u001b[32m106\u001b[39m     ) = \u001b[38;5;28;43mself\u001b[39;49m\u001b[43m.\u001b[49m\u001b[43m_receive_response_headers\u001b[49m\u001b[43m(\u001b[49m\u001b[43m*\u001b[49m\u001b[43m*\u001b[49m\u001b[43mkwargs\u001b[49m\u001b[43m)\u001b[49m\n\u001b[32m    107\u001b[39m     trace.return_value = (\n\u001b[32m    108\u001b[39m         http_version,\n\u001b[32m    109\u001b[39m         status,\n\u001b[32m    110\u001b[39m         reason_phrase,\n\u001b[32m    111\u001b[39m         headers,\n\u001b[32m    112\u001b[39m     )\n\u001b[32m    114\u001b[39m network_stream = \u001b[38;5;28mself\u001b[39m._network_stream\n",
      "\u001b[36mFile \u001b[39m\u001b[32m~/.local/lib/python3.11/site-packages/httpcore/_sync/http11.py:177\u001b[39m, in \u001b[36mHTTP11Connection._receive_response_headers\u001b[39m\u001b[34m(self, request)\u001b[39m\n\u001b[32m    174\u001b[39m timeout = timeouts.get(\u001b[33m\"\u001b[39m\u001b[33mread\u001b[39m\u001b[33m\"\u001b[39m, \u001b[38;5;28;01mNone\u001b[39;00m)\n\u001b[32m    176\u001b[39m \u001b[38;5;28;01mwhile\u001b[39;00m \u001b[38;5;28;01mTrue\u001b[39;00m:\n\u001b[32m--> \u001b[39m\u001b[32m177\u001b[39m     event = \u001b[38;5;28;43mself\u001b[39;49m\u001b[43m.\u001b[49m\u001b[43m_receive_event\u001b[49m\u001b[43m(\u001b[49m\u001b[43mtimeout\u001b[49m\u001b[43m=\u001b[49m\u001b[43mtimeout\u001b[49m\u001b[43m)\u001b[49m\n\u001b[32m    178\u001b[39m     \u001b[38;5;28;01mif\u001b[39;00m \u001b[38;5;28misinstance\u001b[39m(event, h11.Response):\n\u001b[32m    179\u001b[39m         \u001b[38;5;28;01mbreak\u001b[39;00m\n",
      "\u001b[36mFile \u001b[39m\u001b[32m~/.local/lib/python3.11/site-packages/httpcore/_sync/http11.py:217\u001b[39m, in \u001b[36mHTTP11Connection._receive_event\u001b[39m\u001b[34m(self, timeout)\u001b[39m\n\u001b[32m    214\u001b[39m     event = \u001b[38;5;28mself\u001b[39m._h11_state.next_event()\n\u001b[32m    216\u001b[39m \u001b[38;5;28;01mif\u001b[39;00m event \u001b[38;5;129;01mis\u001b[39;00m h11.NEED_DATA:\n\u001b[32m--> \u001b[39m\u001b[32m217\u001b[39m     data = \u001b[38;5;28;43mself\u001b[39;49m\u001b[43m.\u001b[49m\u001b[43m_network_stream\u001b[49m\u001b[43m.\u001b[49m\u001b[43mread\u001b[49m\u001b[43m(\u001b[49m\n\u001b[32m    218\u001b[39m \u001b[43m        \u001b[49m\u001b[38;5;28;43mself\u001b[39;49m\u001b[43m.\u001b[49m\u001b[43mREAD_NUM_BYTES\u001b[49m\u001b[43m,\u001b[49m\u001b[43m \u001b[49m\u001b[43mtimeout\u001b[49m\u001b[43m=\u001b[49m\u001b[43mtimeout\u001b[49m\n\u001b[32m    219\u001b[39m \u001b[43m    \u001b[49m\u001b[43m)\u001b[49m\n\u001b[32m    221\u001b[39m     \u001b[38;5;66;03m# If we feed this case through h11 we'll raise an exception like:\u001b[39;00m\n\u001b[32m    222\u001b[39m     \u001b[38;5;66;03m#\u001b[39;00m\n\u001b[32m    223\u001b[39m     \u001b[38;5;66;03m#     httpcore.RemoteProtocolError: can't handle event type\u001b[39;00m\n\u001b[32m   (...)\u001b[39m\u001b[32m    227\u001b[39m     \u001b[38;5;66;03m# perspective. Instead we handle this case distinctly and treat\u001b[39;00m\n\u001b[32m    228\u001b[39m     \u001b[38;5;66;03m# it as a ConnectError.\u001b[39;00m\n\u001b[32m    229\u001b[39m     \u001b[38;5;28;01mif\u001b[39;00m data == \u001b[33mb\u001b[39m\u001b[33m\"\u001b[39m\u001b[33m\"\u001b[39m \u001b[38;5;129;01mand\u001b[39;00m \u001b[38;5;28mself\u001b[39m._h11_state.their_state == h11.SEND_RESPONSE:\n",
      "\u001b[36mFile \u001b[39m\u001b[32m~/.local/lib/python3.11/site-packages/httpcore/_backends/sync.py:128\u001b[39m, in \u001b[36mSyncStream.read\u001b[39m\u001b[34m(self, max_bytes, timeout)\u001b[39m\n\u001b[32m    126\u001b[39m \u001b[38;5;28;01mwith\u001b[39;00m map_exceptions(exc_map):\n\u001b[32m    127\u001b[39m     \u001b[38;5;28mself\u001b[39m._sock.settimeout(timeout)\n\u001b[32m--> \u001b[39m\u001b[32m128\u001b[39m     \u001b[38;5;28;01mreturn\u001b[39;00m \u001b[38;5;28;43mself\u001b[39;49m\u001b[43m.\u001b[49m\u001b[43m_sock\u001b[49m\u001b[43m.\u001b[49m\u001b[43mrecv\u001b[49m\u001b[43m(\u001b[49m\u001b[43mmax_bytes\u001b[49m\u001b[43m)\u001b[49m\n",
      "\u001b[36mFile \u001b[39m\u001b[32m/cm/shared/apps/python/3.11.x-anaconda/lib/python3.11/ssl.py:1263\u001b[39m, in \u001b[36mSSLSocket.recv\u001b[39m\u001b[34m(self, buflen, flags)\u001b[39m\n\u001b[32m   1259\u001b[39m     \u001b[38;5;28;01mif\u001b[39;00m flags != \u001b[32m0\u001b[39m:\n\u001b[32m   1260\u001b[39m         \u001b[38;5;28;01mraise\u001b[39;00m \u001b[38;5;167;01mValueError\u001b[39;00m(\n\u001b[32m   1261\u001b[39m             \u001b[33m\"\u001b[39m\u001b[33mnon-zero flags not allowed in calls to recv() on \u001b[39m\u001b[38;5;132;01m%s\u001b[39;00m\u001b[33m\"\u001b[39m %\n\u001b[32m   1262\u001b[39m             \u001b[38;5;28mself\u001b[39m.\u001b[34m__class__\u001b[39m)\n\u001b[32m-> \u001b[39m\u001b[32m1263\u001b[39m     \u001b[38;5;28;01mreturn\u001b[39;00m \u001b[38;5;28;43mself\u001b[39;49m\u001b[43m.\u001b[49m\u001b[43mread\u001b[49m\u001b[43m(\u001b[49m\u001b[43mbuflen\u001b[49m\u001b[43m)\u001b[49m\n\u001b[32m   1264\u001b[39m \u001b[38;5;28;01melse\u001b[39;00m:\n\u001b[32m   1265\u001b[39m     \u001b[38;5;28;01mreturn\u001b[39;00m \u001b[38;5;28msuper\u001b[39m().recv(buflen, flags)\n",
      "\u001b[36mFile \u001b[39m\u001b[32m/cm/shared/apps/python/3.11.x-anaconda/lib/python3.11/ssl.py:1136\u001b[39m, in \u001b[36mSSLSocket.read\u001b[39m\u001b[34m(self, len, buffer)\u001b[39m\n\u001b[32m   1134\u001b[39m         \u001b[38;5;28;01mreturn\u001b[39;00m \u001b[38;5;28mself\u001b[39m._sslobj.read(\u001b[38;5;28mlen\u001b[39m, buffer)\n\u001b[32m   1135\u001b[39m     \u001b[38;5;28;01melse\u001b[39;00m:\n\u001b[32m-> \u001b[39m\u001b[32m1136\u001b[39m         \u001b[38;5;28;01mreturn\u001b[39;00m \u001b[38;5;28;43mself\u001b[39;49m\u001b[43m.\u001b[49m\u001b[43m_sslobj\u001b[49m\u001b[43m.\u001b[49m\u001b[43mread\u001b[49m\u001b[43m(\u001b[49m\u001b[38;5;28;43mlen\u001b[39;49m\u001b[43m)\u001b[49m\n\u001b[32m   1137\u001b[39m \u001b[38;5;28;01mexcept\u001b[39;00m SSLError \u001b[38;5;28;01mas\u001b[39;00m x:\n\u001b[32m   1138\u001b[39m     \u001b[38;5;28;01mif\u001b[39;00m x.args[\u001b[32m0\u001b[39m] == SSL_ERROR_EOF \u001b[38;5;129;01mand\u001b[39;00m \u001b[38;5;28mself\u001b[39m.suppress_ragged_eofs:\n",
      "\u001b[31mKeyboardInterrupt\u001b[39m: "
     ]
    }
   ],
   "source": [
    "# 6.2 Loop over the dataset with a progress bar\n",
    "\n",
    "# * Do not forget to add the results to our Result list, both successful and failed predictions\n",
    "# * API calls will not always work, so make sure we capture the exceptions from failed calls\n",
    "#    and add them to the Result list with a `status=False`\n",
    "from tqdm import tqdm\n",
    "from collections import defaultdict\n",
    "from tqdm import tqdm\n",
    "import pandas as pd\n",
    "from typing import List, Dict, Union, Optional\n",
    "\n",
    "# ------------------- 设置 ------------------- #\n",
    "USE_API_FOR_EMBEDDING = True         # True 则 gene-function 任务走远程 API\n",
    "EMBED_API_URL = \"http://198.215.61.34:8152/embed\"\n",
    "\n",
    "# 结果容器\n",
    "results: List[Result] = []\n",
    "task_scores: Dict[str, List[float]] = defaultdict(list)\n",
    "\n",
    "# ------------------- 设置模型 ------------------- #\n",
    "model_config = ModelConfig(\n",
    "    model_name=\"gpt-4.1\",\n",
    "    model_backend=\"azure\",\n",
    "    openai_api_key=\"FJ5GrEV5LG3Y0UIeac29BIhmVu8GPcmWyeTTFH0cBifgT7T68XHPJQQJ99BEACHYHv6XJ3w3AAAAACOGdwHb\",\n",
    "    openai_base_url=\"https://michaelholcomb-5866-resource.cognitiveservices.azure.com/\"\n",
    ")\n",
    "\n",
    "client = AzureOpenAI(\n",
    "    api_key=model_config.openai_api_key,\n",
    "    azure_endpoint=model_config.openai_base_url,\n",
    "    api_version=\"2024-10-21\"\n",
    ")\n",
    "# 2. Pydantic 结构化模式\n",
    "class GeneHopResult(BaseModel):\n",
    "    answer: str\n",
    "    confidence: float\n",
    "# Create progress bar\n",
    "for i, row in tqdm(df.iterrows(), total=len(df), desc=\"Evaluating\"):\n",
    "    try:\n",
    "        # 1) 向 LLM 获取原始预测\n",
    "        raw_prediction =query_gene_gpt_model(\n",
    "            client=client,\n",
    "            system_prompt=system_content+\"\\nReturn result in JSON.\",\n",
    "            example_messages=example_messages,\n",
    "            instructions=instructions,\n",
    "            user_query=row['question'],\n",
    "            config=model_config,\n",
    "            pydantic_model=GeneHopResult,\n",
    "        )\n",
    "        \n",
    "        # Process the prediction using get_answer function\n",
    "        processed_prediction = get_answer(raw_prediction, row['task'])\n",
    "        \n",
    "        # Calculate score using score_answer function\n",
    "        score = score_answer(processed_prediction, row['answer'], row['task'])\n",
    "\n",
    "        \n",
    "        # Create Result object for successful prediction\n",
    "        result = Result(\n",
    "            id=i,\n",
    "            task=row['task'],\n",
    "            question=row['question'],\n",
    "            answer=row['answer'],\n",
    "            raw_prediction=raw_prediction,\n",
    "            processed_prediction=processed_prediction,\n",
    "            score=score,\n",
    "            success=True\n",
    "        )\n",
    "        task_scores[row['task']].append(score)\n",
    "        \n",
    "    except Exception as e:\n",
    "        print(f\"Error processing example {i}: {str(e)}\")\n",
    "        # Create Result object for failed prediction\n",
    "        result = Result(\n",
    "            id=i,\n",
    "            task=row['task'],\n",
    "            question=row['question'],\n",
    "            answer=row['answer'],\n",
    "            raw_prediction=None,\n",
    "            processed_prediction=None,\n",
    "            score=None,\n",
    "            success=False\n",
    "        )\n",
    "    \n",
    "    # Add result to our list\n",
    "    results.append(result)\n",
    "    # Convert results to DataFrame for easier analysis\n",
    "results_df = pd.DataFrame([vars(r) for r in results])\n",
    "\n",
    "# Print summary statistics\n",
    "print(f\"\\nProcessed {len(results)} examples\")\n",
    "print(f\"Successful predictions: {sum(r.success for r in results)}\")\n",
    "print(f\"Failed predictions: {sum(not r.success for r in results)}\")\n",
    "\n",
    "    \n",
    "    \n",
    "    \n",
    "    \n"
   ]
  },
  {
   "cell_type": "code",
   "execution_count": 24,
   "id": "216e2cef",
   "metadata": {},
   "outputs": [
    {
     "name": "stdout",
     "output_type": "stream",
     "text": [
      "Result(id=11, task='sequence gene alias', question=\"What are the aliases of the gene that contains this sequnece:CTTCCAGGCTAAGTCCATCTTCCGGCTTGGGCAGACGCTGCCGCGGAATCCTTGACTCTAGTTTTCTGAGTCGGTGAGTGAGTGCAAAGTAGATTCCTCAGGTGGAGGGTGCC. Let's decompose the question to sub-questions and solve them step by step.\", answer=['ZBTB6', 'ZID', 'ZNF482'], raw_prediction=GeneHopResult(answer='APOE, APOE4, APO-E, LDLCQ5, apolipoprotein E, Apo-E, ApoE4, APOE*4', confidence=0.98), processed_prediction=['APOE', 'APOE4', 'APO-E', 'LDLCQ5', 'apolipoprotein E', 'Apo-E', 'ApoE4', 'APOE*4'], score=0.0, success=True)\n"
     ]
    }
   ],
   "source": [
    "print(results[11])"
   ]
  },
  {
   "cell_type": "markdown",
   "id": "84dcf5de",
   "metadata": {},
   "source": [
    "Now, let's implement the evaluation loop for the GeneTuring dataset. For now we will call the model function one at a time and collect the results in a list. Also, we will collect per-task metrics and the overall metrics for the dataset as we go. Once we're done, we will save the results to a CSV file."
   ]
  },
  {
   "cell_type": "code",
   "execution_count": 25,
   "id": "6cc013b9",
   "metadata": {},
   "outputs": [
    {
     "name": "stdout",
     "output_type": "stream",
     "text": [
      "\n",
      "=== Evaluation Summary ===\n",
      "sequence gene alias: 0.021\n",
      "Disease gene location: 0.292\n",
      "SNP gene function: 0.000\n",
      "\n",
      "Overall average score: 0.105\n",
      "Total examples: 150\n",
      "Successful: 146\n",
      "Failed: 4\n",
      "\n",
      "Results saved to outputs/gene_turing_results.csv\n"
     ]
    }
   ],
   "source": [
    "# 6.3 Save the results\n",
    "\n",
    "# 每个任务的平均得分\n",
    "task_avg = {\n",
    "    task: sum(scores) / len(scores) if scores else 0.0\n",
    "    for task, scores in task_scores.items()\n",
    "}\n",
    "\n",
    "# 总体平均得分\n",
    "all_scores = [s for scores in task_scores.values() for s in scores]\n",
    "overall_avg = sum(all_scores) / len(all_scores) if all_scores else 0.0\n",
    "\n",
    "# 打印统计\n",
    "print(\"\\n=== Evaluation Summary ===\")\n",
    "for task, avg in task_avg.items():\n",
    "    print(f\"{task}: {avg:.3f}\")\n",
    "print(f\"\\nOverall average score: {overall_avg:.3f}\")\n",
    "print(f\"Total examples: {len(results)}\")\n",
    "print(f\"Successful: {sum(r.success for r in results)}\")\n",
    "print(f\"Failed: {sum(not r.success for r in results)}\")\n",
    "\n",
    "# 保存结果\n",
    "os.makedirs(\"outputs\", exist_ok=True)\n",
    "results_df.to_csv(\"outputs/gene_turing_results.csv\", index=False)\n",
    "print(\"\\nResults saved to outputs/gene_turing_results.csv\")"
   ]
  },
  {
   "cell_type": "markdown",
   "id": "76dab8dd",
   "metadata": {},
   "source": [
    "## 7. Analysis"
   ]
  },
  {
   "cell_type": "markdown",
   "id": "afe4efaa",
   "metadata": {
    "tags": [
     "skip"
    ]
   },
   "source": [
    "Now that we have collected the first round of GeneTuring results, let's analyze them. Let's start by calculating what fraction of predictions were successful."
   ]
  },
  {
   "cell_type": "code",
   "execution_count": 26,
   "id": "dcca4f6d",
   "metadata": {},
   "outputs": [],
   "source": [
    "# 7.1 Calculate the fraction of successful predictions\n",
    "total_predictions = len(results_df)\n",
    "successful_predictions = results_df['success'].sum()\n",
    "success_fraction = successful_predictions / total_predictions\n"
   ]
  },
  {
   "cell_type": "markdown",
   "id": "b46a3607",
   "metadata": {
    "tags": [
     "skip"
    ]
   },
   "source": [
    "Now let's calculate both the overall score as well as the score by task."
   ]
  },
  {
   "cell_type": "code",
   "execution_count": 27,
   "id": "a3f7c69f",
   "metadata": {},
   "outputs": [],
   "source": [
    "# 7.2 Calculate the overall score and the score by task\n",
    "success_df = results_df[results_df['success'] == True]\n",
    "overall_score = success_df['score'].mean()\n",
    "overall_score_by_task = success_df.groupby('task')['score'].mean().sort_values(ascending=False)"
   ]
  },
  {
   "cell_type": "markdown",
   "id": "e2fc369e",
   "metadata": {
    "tags": [
     "skip"
    ]
   },
   "source": [
    "Then, let's create a bar chart of the scores by task with a horizontal line for the overall score. Let's save the figure as well to our output directory."
   ]
  },
  {
   "cell_type": "code",
   "execution_count": 28,
   "id": "222356e5",
   "metadata": {},
   "outputs": [
    {
     "name": "stdout",
     "output_type": "stream",
     "text": [
      "task\n",
      "Disease gene location    0.292181\n",
      "sequence gene alias      0.021277\n",
      "SNP gene function        0.000000\n",
      "Name: score, dtype: float64\n"
     ]
    },
    {
     "data": {
      "text/plain": [
       "'outputs/gene_turing_scores_by_task.png'"
      ]
     },
     "execution_count": 28,
     "metadata": {},
     "output_type": "execute_result"
    },
    {
     "data": {
      "image/png": "[encoded data removed]",
      "text/plain": [
       "<Figure size 1000x600 with 1 Axes>"
      ]
     },
     "metadata": {},
     "output_type": "display_data"
    }
   ],
   "source": [
    "# 7.3 Create a bar chart of the scores by task with a horizontal line for the overall score\n",
    "import matplotlib.pyplot as plt\n",
    "import pandas as pd\n",
    "print(overall_score_by_task)\n",
    "\n",
    "plt.figure(figsize=(10, 6))\n",
    "plt.bar(overall_score_by_task.keys(), overall_score_by_task.values)\n",
    "plt.axhline(y=overall_score, color='red', linestyle='--', label=f'Overall Avg: {overall_score:.2f}')\n",
    "plt.xticks(rotation=45, ha='right')\n",
    "plt.ylabel('Average Score')\n",
    "plt.title('GeneTuring Task Performance')\n",
    "plt.legend()\n",
    "plt.tight_layout()\n",
    "\n",
    "# 保存图像\n",
    "os.makedirs(\"outputs\", exist_ok=True)\n",
    "output_path = 'outputs/gene_turing_scores_by_task.png'\n",
    "plt.savefig(output_path)\n",
    "\n",
    "output_path\n"
   ]
  },
  {
   "cell_type": "code",
   "execution_count": 29,
   "id": "a9760f05",
   "metadata": {},
   "outputs": [
    {
     "name": "stdout",
     "output_type": "stream",
     "text": [
      "🏃 View run v2-openai at: http://198.215.61.34:8153/#/experiments/3/runs/9d08e900bd4645f08dd646041e8dc525\n",
      "🧪 View experiment at: http://198.215.61.34:8153/#/experiments/3\n"
     ]
    }
   ],
   "source": [
    "\n",
    "\n",
    "import mlflow\n",
    "import os\n",
    "\n",
    "# 确保输出目录存在\n",
    "os.makedirs(\"outputs\", exist_ok=True)\n",
    "# 1. 把 MLflow 服务器加到 NO_PROXY\n",
    "os.environ[\"NO_PROXY\"] = os.environ.get(\"NO_PROXY\", \"\") + \",198.215.61.34\"\n",
    "os.environ[\"no_proxy\"] = os.environ[\"NO_PROXY\"]               # 有些系统区分大小写\n",
    "\n",
    "# 2. 彻底屏蔽代理变量（对当前 Python 进程）\n",
    "for var in (\"http_proxy\", \"https_proxy\", \"HTTP_PROXY\", \"HTTPS_PROXY\"):\n",
    "    os.environ.pop(var, None)\n",
    "# 设置远程 tracking server\n",
    "mlflow.set_tracking_uri(\"http://198.215.61.34:8153/\")\n",
    "mlflow.set_experiment(\"Yi\")\n",
    "\n",
    "try:\n",
    "    with mlflow.start_run(run_name=\"v2-openai\"):\n",
    "        # 参数记录\n",
    "        mlflow.log_param(\"model_name\", model_config.model_name)\n",
    "        mlflow.log_param(\"backend\", model_config.model_backend)\n",
    "\n",
    "        # 分数记录\n",
    "        mlflow.log_metric(\"overall_score\", overall_avg)\n",
    "        for task, avg in task_avg.items():\n",
    "            mlflow.log_metric(f\"{task.replace(' ', '_')}_score\", avg)\n",
    "\n",
    "        # 上传文件产物\n",
    "        mlflow.log_artifact(\"outputs/gene_turing_scores_by_task.png\", artifact_path=\"figures\")\n",
    "        mlflow.log_artifact(\"outputs/gene_turing_results.csv\", artifact_path=\"predictions\")\n",
    "\n",
    "except Exception as e:\n",
    "    print(f\"[MLflow Error] Logging failed: {e}\")\n"
   ]
  }
 ],
 "metadata": {
  "kernelspec": {
   "display_name": "base",
   "language": "python",
   "name": "python3"
  },
  "language_info": {
   "codemirror_mode": {
    "name": "ipython",
    "version": 3
   },
   "file_extension": ".py",
   "mimetype": "text/x-python",
   "name": "python",
   "nbconvert_exporter": "python",
   "pygments_lexer": "ipython3",
   "version": "3.11.4"
  }
 },
 "nbformat": 4,
 "nbformat_minor": 5
}
